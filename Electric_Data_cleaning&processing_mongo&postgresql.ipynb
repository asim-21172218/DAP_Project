{
 "cells": [
  {
   "cell_type": "code",
   "execution_count": 12,
   "id": "1dd34933",
   "metadata": {},
   "outputs": [],
   "source": [
    "#importing libraries\n",
    "from pprint import pprint\n",
    "import urllib.request\n",
    "import json\n",
    "from datetime import datetime\n",
    "import datetime\n",
    "import pandas as pd\n",
    "import pymongo\n",
    "import matplotlib.pyplot as plt\n",
    "from pymongo import MongoClient"
   ]
  },
  {
   "cell_type": "markdown",
   "id": "40084982",
   "metadata": {},
   "source": [
    "# Reading json File"
   ]
  },
  {
   "cell_type": "code",
   "execution_count": 13,
   "id": "73d347cc",
   "metadata": {},
   "outputs": [],
   "source": [
    "#reading json file \"Electric Consumption And Cost.json\"\n",
    "\n",
    "with open(\"Electric.json\",'r') as elec_file:\n",
    "    elec_data=json.load(elec_file)\n",
    "    \n",
    "#elec_data\n"
   ]
  },
  {
   "cell_type": "code",
   "execution_count": 3,
   "id": "ace63c1b",
   "metadata": {},
   "outputs": [
    {
     "data": {
      "text/plain": [
       "dict_keys(['id', 'name', 'assetType', 'attribution', 'averageRating', 'category', 'createdAt', 'description', 'displayType', 'downloadCount', 'hideFromCatalog', 'hideFromDataJson', 'indexUpdatedAt', 'newBackend', 'numberOfComments', 'oid', 'provenance', 'publicationAppendEnabled', 'publicationDate', 'publicationGroup', 'publicationStage', 'rowClass', 'rowsUpdatedAt', 'rowsUpdatedBy', 'tableId', 'totalTimesRated', 'viewCount', 'viewLastModified', 'viewType', 'approvals', 'clientContext', 'columns', 'grants', 'metadata', 'owner', 'query', 'rights', 'tableAuthor', 'tags', 'flags'])"
      ]
     },
     "execution_count": 3,
     "metadata": {},
     "output_type": "execute_result"
    }
   ],
   "source": [
    "elec_data['meta']['view'].keys()"
   ]
  },
  {
   "cell_type": "code",
   "execution_count": 4,
   "id": "fc27b9ef",
   "metadata": {},
   "outputs": [
    {
     "name": "stdout",
     "output_type": "stream",
     "text": [
      "Number of columns: 35\n"
     ]
    }
   ],
   "source": [
    "#Reading the column names from metadat of json file\n",
    "elec_data['meta']['view']['columns']\n",
    "\n",
    "print(\"Number of columns:\",len(elec_data['meta']['view']['columns']))\n",
    "\n",
    "num_columns = len(elec_data['meta']['view']['columns'][0].keys())\n"
   ]
  },
  {
   "cell_type": "code",
   "execution_count": 5,
   "id": "5b4ee30d",
   "metadata": {},
   "outputs": [],
   "source": [
    "d=[]\n",
    "for i in range(len(elec_data['data'])):\n",
    "    d.append(elec_data['data'][i][21])\n",
    "#d"
   ]
  },
  {
   "cell_type": "code",
   "execution_count": 10,
   "id": "513ba3e6",
   "metadata": {},
   "outputs": [
    {
     "ename": "IndentationError",
     "evalue": "unexpected indent (2263359072.py, line 2)",
     "output_type": "error",
     "traceback": [
      "\u001b[1;36m  Cell \u001b[1;32mIn[10], line 2\u001b[1;36m\u001b[0m\n\u001b[1;33m    for x in elec_data['data']:\u001b[0m\n\u001b[1;37m    ^\u001b[0m\n\u001b[1;31mIndentationError\u001b[0m\u001b[1;31m:\u001b[0m unexpected indent\n"
     ]
    }
   ],
   "source": [
    "#try:\n",
    "    for x in elec_data['data']:\n",
    "        dt_col=x[21]\n",
    "    \n",
    "        #Converting the tect colum to date type in format \"YYYY-MM-DD\"\n",
    "        year,month=map(int, dt_col.split(\"-\"))\n",
    "        date_obj = datetime.date(year=year, month=month, day=1)\n",
    "        \n",
    "        x[21] = date_obj.isoformat()\n",
    "# except ValueError as ve:\n",
    "#     print(\"Error\")\n",
    "        "
   ]
  },
  {
   "cell_type": "code",
   "execution_count": 11,
   "id": "5906d9c8",
   "metadata": {},
   "outputs": [
    {
     "ename": "ValueError",
     "evalue": "too many values to unpack (expected 2)",
     "output_type": "error",
     "traceback": [
      "\u001b[1;31m---------------------------------------------------------------------------\u001b[0m",
      "\u001b[1;31mValueError\u001b[0m                                Traceback (most recent call last)",
      "Cell \u001b[1;32mIn[11], line 5\u001b[0m\n\u001b[0;32m      2\u001b[0m dt_col\u001b[38;5;241m=\u001b[39mx[\u001b[38;5;241m21\u001b[39m]\n\u001b[0;32m      4\u001b[0m \u001b[38;5;66;03m#Converting the tect colum to date type in format \"YYYY-MM-DD\"\u001b[39;00m\n\u001b[1;32m----> 5\u001b[0m year,month\u001b[38;5;241m=\u001b[39m\u001b[38;5;28mmap\u001b[39m(\u001b[38;5;28mint\u001b[39m, dt_col\u001b[38;5;241m.\u001b[39msplit(\u001b[38;5;124m\"\u001b[39m\u001b[38;5;124m-\u001b[39m\u001b[38;5;124m\"\u001b[39m))\n\u001b[0;32m      6\u001b[0m date_obj \u001b[38;5;241m=\u001b[39m datetime\u001b[38;5;241m.\u001b[39mdate(year\u001b[38;5;241m=\u001b[39myear, month\u001b[38;5;241m=\u001b[39mmonth, day\u001b[38;5;241m=\u001b[39m\u001b[38;5;241m1\u001b[39m)\n\u001b[0;32m      8\u001b[0m x[\u001b[38;5;241m21\u001b[39m] \u001b[38;5;241m=\u001b[39m date_obj\u001b[38;5;241m.\u001b[39misoformat()\n",
      "\u001b[1;31mValueError\u001b[0m: too many values to unpack (expected 2)"
     ]
    }
   ],
   "source": [
    "for x in elec_data['data']:\n",
    "    dt_col=x[21]\n",
    "    \n",
    "    #Converting the tect colum to date type in format \"YYYY-MM-DD\"\n",
    "    year,month=map(int, dt_col.split(\"-\"))\n",
    "    date_obj = datetime.date(year=year, month=month, day=1)\n",
    "    \n",
    "    x[21] = date_obj.isoformat()"
   ]
  },
  {
   "cell_type": "code",
   "execution_count": 7,
   "id": "242906f2",
   "metadata": {},
   "outputs": [
    {
     "name": "stdout",
     "output_type": "stream",
     "text": [
      "Rows: 447849\n",
      "Columns: 35\n"
     ]
    }
   ],
   "source": [
    "print(\"Rows:\",len(elec_data['data']))    #rows\n",
    "print(\"Columns:\",len(elec_data['data'][0]))      #cols\n"
   ]
  },
  {
   "cell_type": "code",
   "execution_count": 8,
   "id": "a2b57419",
   "metadata": {},
   "outputs": [],
   "source": [
    "#Deleting rows with dates before 2013\n",
    "\n",
    "elec_data['data'] = [row for row in elec_data['data'] if row[21] >= '2013-01-01']\n",
    "\n",
    "#Deleting rows with dates after 2020\n",
    "elec_data['data'] = [row for row in elec_data['data'] if row[21] < '2021-01-01']\n",
    "\n",
    "# for i in elec_data['data']:\n",
    "#     print(i[21])\n"
   ]
  },
  {
   "cell_type": "code",
   "execution_count": 9,
   "id": "fb9696da",
   "metadata": {},
   "outputs": [
    {
     "name": "stdout",
     "output_type": "stream",
     "text": [
      "Rows: 291344\n",
      "Columns: 35\n"
     ]
    }
   ],
   "source": [
    "print(\"Rows:\",len(elec_data['data']))    #rows\n",
    "print(\"Columns:\",len(elec_data['data'][0]))      #cols\n",
    "\n",
    "\n"
   ]
  },
  {
   "cell_type": "code",
   "execution_count": 10,
   "id": "506ae26a",
   "metadata": {},
   "outputs": [],
   "source": [
    "#modifying the file with the updated data (after removing unwanted columns)\n",
    "with open('Electric Consumption And Cost.json', 'w') as f:\n",
    "    json.dump(elec_data, f)"
   ]
  },
  {
   "cell_type": "code",
   "execution_count": 11,
   "id": "e1263a8c",
   "metadata": {},
   "outputs": [
    {
     "data": {
      "text/plain": [
       "['sid',\n",
       " 'id',\n",
       " 'position',\n",
       " 'created_at',\n",
       " 'created_meta',\n",
       " 'updated_at',\n",
       " 'updated_meta',\n",
       " 'meta',\n",
       " 'Development Name',\n",
       " 'Borough',\n",
       " 'Account Name',\n",
       " 'Location',\n",
       " 'Meter AMR',\n",
       " 'Meter Scope',\n",
       " 'TDS #',\n",
       " 'EDP',\n",
       " 'RC Code',\n",
       " 'Funding Source',\n",
       " 'AMP #',\n",
       " 'Vendor Name',\n",
       " 'UMIS BILL ID',\n",
       " 'Revenue Month',\n",
       " 'Service Start Date',\n",
       " 'Service End Date',\n",
       " '# days',\n",
       " 'Meter Number',\n",
       " 'Estimated',\n",
       " 'Current Charges',\n",
       " 'Rate Class',\n",
       " 'Bill Analyzed',\n",
       " 'Consumption (KWH)',\n",
       " 'KWH Charges',\n",
       " 'Consumption (KW)',\n",
       " 'KW Charges',\n",
       " 'Other charges']"
      ]
     },
     "execution_count": 11,
     "metadata": {},
     "output_type": "execute_result"
    }
   ],
   "source": [
    "#creating a array to store the columns name from json file\n",
    "elec_col_nm=[]\n",
    "\n",
    "\n",
    "for i in elec_data['meta']['view']['columns']:\n",
    "    elec_col_nm.append(i['name'])\n",
    "    \n",
    "elec_col_nm"
   ]
  },
  {
   "cell_type": "code",
   "execution_count": 49,
   "id": "b7a49923",
   "metadata": {},
   "outputs": [
    {
     "data": {
      "text/html": [
       "<div>\n",
       "<style scoped>\n",
       "    .dataframe tbody tr th:only-of-type {\n",
       "        vertical-align: middle;\n",
       "    }\n",
       "\n",
       "    .dataframe tbody tr th {\n",
       "        vertical-align: top;\n",
       "    }\n",
       "\n",
       "    .dataframe thead th {\n",
       "        text-align: right;\n",
       "    }\n",
       "</style>\n",
       "<table border=\"1\" class=\"dataframe\">\n",
       "  <thead>\n",
       "    <tr style=\"text-align: right;\">\n",
       "      <th></th>\n",
       "      <th>sid</th>\n",
       "      <th>id</th>\n",
       "      <th>position</th>\n",
       "      <th>created_at</th>\n",
       "      <th>created_meta</th>\n",
       "      <th>updated_at</th>\n",
       "      <th>updated_meta</th>\n",
       "      <th>meta</th>\n",
       "      <th>Development Name</th>\n",
       "      <th>Borough</th>\n",
       "      <th>...</th>\n",
       "      <th>Meter Number</th>\n",
       "      <th>Estimated</th>\n",
       "      <th>Current Charges</th>\n",
       "      <th>Rate Class</th>\n",
       "      <th>Bill Analyzed</th>\n",
       "      <th>Consumption (KWH)</th>\n",
       "      <th>KWH Charges</th>\n",
       "      <th>Consumption (KW)</th>\n",
       "      <th>KW Charges</th>\n",
       "      <th>Other charges</th>\n",
       "    </tr>\n",
       "  </thead>\n",
       "  <tbody>\n",
       "    <tr>\n",
       "      <th>0</th>\n",
       "      <td>row-imab-j6zy~3p2z</td>\n",
       "      <td>00000000-0000-0000-A4A4-42CAC0E87432</td>\n",
       "      <td>0</td>\n",
       "      <td>1571253526</td>\n",
       "      <td>None</td>\n",
       "      <td>1571253526</td>\n",
       "      <td>None</td>\n",
       "      <td>{ }</td>\n",
       "      <td>ADAMS</td>\n",
       "      <td>BRONX</td>\n",
       "      <td>...</td>\n",
       "      <td>7223256</td>\n",
       "      <td>N</td>\n",
       "      <td>15273.86</td>\n",
       "      <td>GOV/NYC/068</td>\n",
       "      <td>Yes</td>\n",
       "      <td>117600</td>\n",
       "      <td>6451.54</td>\n",
       "      <td>208.00</td>\n",
       "      <td>3676.32</td>\n",
       "      <td>5146.00</td>\n",
       "    </tr>\n",
       "    <tr>\n",
       "      <th>1</th>\n",
       "      <td>row-wneq-6ezk~8r72</td>\n",
       "      <td>00000000-0000-0000-0BE7-12A877AE6A43</td>\n",
       "      <td>0</td>\n",
       "      <td>1571253526</td>\n",
       "      <td>None</td>\n",
       "      <td>1571253526</td>\n",
       "      <td>None</td>\n",
       "      <td>{ }</td>\n",
       "      <td>ADAMS</td>\n",
       "      <td>BRONX</td>\n",
       "      <td>...</td>\n",
       "      <td>7223256</td>\n",
       "      <td>N</td>\n",
       "      <td>16078.55</td>\n",
       "      <td>GOV/NYC/068</td>\n",
       "      <td>Yes</td>\n",
       "      <td>122400</td>\n",
       "      <td>6714.86</td>\n",
       "      <td>208.00</td>\n",
       "      <td>3676.32</td>\n",
       "      <td>5687.37</td>\n",
       "    </tr>\n",
       "    <tr>\n",
       "      <th>2</th>\n",
       "      <td>row-cjsy.jskv~bstp</td>\n",
       "      <td>00000000-0000-0000-BC82-8D6AF0BF66A9</td>\n",
       "      <td>0</td>\n",
       "      <td>1571253526</td>\n",
       "      <td>None</td>\n",
       "      <td>1571253526</td>\n",
       "      <td>None</td>\n",
       "      <td>{ }</td>\n",
       "      <td>ADAMS</td>\n",
       "      <td>BRONX</td>\n",
       "      <td>...</td>\n",
       "      <td>7223256</td>\n",
       "      <td>N</td>\n",
       "      <td>16492.80</td>\n",
       "      <td>GOV/NYC/068</td>\n",
       "      <td>Yes</td>\n",
       "      <td>108800</td>\n",
       "      <td>5611.90</td>\n",
       "      <td>216.00</td>\n",
       "      <td>3792.97</td>\n",
       "      <td>7087.93</td>\n",
       "    </tr>\n",
       "    <tr>\n",
       "      <th>3</th>\n",
       "      <td>row-wra7.a59m~e7xg</td>\n",
       "      <td>00000000-0000-0000-48A0-AB277B04BB53</td>\n",
       "      <td>0</td>\n",
       "      <td>1571253526</td>\n",
       "      <td>None</td>\n",
       "      <td>1571253526</td>\n",
       "      <td>None</td>\n",
       "      <td>{ }</td>\n",
       "      <td>ADAMS</td>\n",
       "      <td>BRONX</td>\n",
       "      <td>...</td>\n",
       "      <td>7223256</td>\n",
       "      <td>N</td>\n",
       "      <td>13942.26</td>\n",
       "      <td>GOV/NYC/068</td>\n",
       "      <td>Yes</td>\n",
       "      <td>102400</td>\n",
       "      <td>5281.79</td>\n",
       "      <td>208.00</td>\n",
       "      <td>3792.96</td>\n",
       "      <td>4867.51</td>\n",
       "    </tr>\n",
       "    <tr>\n",
       "      <th>4</th>\n",
       "      <td>row-vu3f.gau5.zd68</td>\n",
       "      <td>00000000-0000-0000-2956-3E801C5A8E62</td>\n",
       "      <td>0</td>\n",
       "      <td>1571253526</td>\n",
       "      <td>None</td>\n",
       "      <td>1571253526</td>\n",
       "      <td>None</td>\n",
       "      <td>{ }</td>\n",
       "      <td>ADAMS</td>\n",
       "      <td>BRONX</td>\n",
       "      <td>...</td>\n",
       "      <td>7223256</td>\n",
       "      <td>N</td>\n",
       "      <td>14018.84</td>\n",
       "      <td>GOV/NYC/068</td>\n",
       "      <td>Yes</td>\n",
       "      <td>95200</td>\n",
       "      <td>4910.42</td>\n",
       "      <td>200.00</td>\n",
       "      <td>3792.96</td>\n",
       "      <td>5315.46</td>\n",
       "    </tr>\n",
       "  </tbody>\n",
       "</table>\n",
       "<p>5 rows × 35 columns</p>\n",
       "</div>"
      ],
      "text/plain": [
       "                  sid                                    id  position  \\\n",
       "0  row-imab-j6zy~3p2z  00000000-0000-0000-A4A4-42CAC0E87432         0   \n",
       "1  row-wneq-6ezk~8r72  00000000-0000-0000-0BE7-12A877AE6A43         0   \n",
       "2  row-cjsy.jskv~bstp  00000000-0000-0000-BC82-8D6AF0BF66A9         0   \n",
       "3  row-wra7.a59m~e7xg  00000000-0000-0000-48A0-AB277B04BB53         0   \n",
       "4  row-vu3f.gau5.zd68  00000000-0000-0000-2956-3E801C5A8E62         0   \n",
       "\n",
       "   created_at created_meta  updated_at updated_meta meta Development Name  \\\n",
       "0  1571253526         None  1571253526         None  { }            ADAMS   \n",
       "1  1571253526         None  1571253526         None  { }            ADAMS   \n",
       "2  1571253526         None  1571253526         None  { }            ADAMS   \n",
       "3  1571253526         None  1571253526         None  { }            ADAMS   \n",
       "4  1571253526         None  1571253526         None  { }            ADAMS   \n",
       "\n",
       "  Borough  ... Meter Number Estimated Current Charges   Rate Class  \\\n",
       "0   BRONX  ...      7223256         N        15273.86  GOV/NYC/068   \n",
       "1   BRONX  ...      7223256         N        16078.55  GOV/NYC/068   \n",
       "2   BRONX  ...      7223256         N        16492.80  GOV/NYC/068   \n",
       "3   BRONX  ...      7223256         N        13942.26  GOV/NYC/068   \n",
       "4   BRONX  ...      7223256         N        14018.84  GOV/NYC/068   \n",
       "\n",
       "  Bill Analyzed Consumption (KWH) KWH Charges Consumption (KW) KW Charges  \\\n",
       "0           Yes            117600     6451.54           208.00    3676.32   \n",
       "1           Yes            122400     6714.86           208.00    3676.32   \n",
       "2           Yes            108800     5611.90           216.00    3792.97   \n",
       "3           Yes            102400     5281.79           208.00    3792.96   \n",
       "4           Yes             95200     4910.42           200.00    3792.96   \n",
       "\n",
       "  Other charges  \n",
       "0       5146.00  \n",
       "1       5687.37  \n",
       "2       7087.93  \n",
       "3       4867.51  \n",
       "4       5315.46  \n",
       "\n",
       "[5 rows x 35 columns]"
      ]
     },
     "execution_count": 49,
     "metadata": {},
     "output_type": "execute_result"
    }
   ],
   "source": [
    "#getting the data into dataframe\n",
    "elec_df=pd.DataFrame(elec_data['data'],columns=elec_col_nm)\n",
    "\n",
    "elec_df.head()\n"
   ]
  },
  {
   "cell_type": "code",
   "execution_count": 37,
   "id": "a370173a",
   "metadata": {},
   "outputs": [],
   "source": [
    "#Checking if any date has wrong formating\n",
    "\n",
    "try:\n",
    "    pd.to_datetime(elec_df['Service End Date'], format='%Y-%m-%dT%H:%M:%S', errors='raise')\n",
    "    # do something\n",
    "except ValueError:\n",
    "    print(\"Dateformat is not constant\")\n",
    "    pass"
   ]
  },
  {
   "cell_type": "code",
   "execution_count": 39,
   "id": "31b02b27",
   "metadata": {},
   "outputs": [],
   "source": [
    "try:\n",
    "    pd.to_datetime(elec_df['Service Start Date'], format='%Y-%m-%dT%H:%M:%S', errors='raise')\n",
    "    # do something\n",
    "except ValueError:\n",
    "    print(\"Dateformat is not constant\")\n",
    "    pass"
   ]
  },
  {
   "cell_type": "code",
   "execution_count": 13,
   "id": "d54cf9a2",
   "metadata": {},
   "outputs": [
    {
     "data": {
      "text/plain": [
       "(291344, 35)"
      ]
     },
     "execution_count": 13,
     "metadata": {},
     "output_type": "execute_result"
    }
   ],
   "source": [
    "elec_df.shape"
   ]
  },
  {
   "cell_type": "code",
   "execution_count": 50,
   "id": "687d6498",
   "metadata": {},
   "outputs": [
    {
     "data": {
      "text/html": [
       "<div>\n",
       "<style scoped>\n",
       "    .dataframe tbody tr th:only-of-type {\n",
       "        vertical-align: middle;\n",
       "    }\n",
       "\n",
       "    .dataframe tbody tr th {\n",
       "        vertical-align: top;\n",
       "    }\n",
       "\n",
       "    .dataframe thead th {\n",
       "        text-align: right;\n",
       "    }\n",
       "</style>\n",
       "<table border=\"1\" class=\"dataframe\">\n",
       "  <thead>\n",
       "    <tr style=\"text-align: right;\">\n",
       "      <th></th>\n",
       "      <th>Development Name</th>\n",
       "      <th>Borough</th>\n",
       "      <th>Account Name</th>\n",
       "      <th>Location</th>\n",
       "      <th>Meter AMR</th>\n",
       "      <th>Meter Scope</th>\n",
       "      <th>TDS #</th>\n",
       "      <th>EDP</th>\n",
       "      <th>RC Code</th>\n",
       "      <th>Funding Source</th>\n",
       "      <th>...</th>\n",
       "      <th>Meter Number</th>\n",
       "      <th>Estimated</th>\n",
       "      <th>Current Charges</th>\n",
       "      <th>Rate Class</th>\n",
       "      <th>Bill Analyzed</th>\n",
       "      <th>Consumption (KWH)</th>\n",
       "      <th>KWH Charges</th>\n",
       "      <th>Consumption (KW)</th>\n",
       "      <th>KW Charges</th>\n",
       "      <th>Other charges</th>\n",
       "    </tr>\n",
       "  </thead>\n",
       "  <tbody>\n",
       "    <tr>\n",
       "      <th>0</th>\n",
       "      <td>ADAMS</td>\n",
       "      <td>BRONX</td>\n",
       "      <td>ADAMS</td>\n",
       "      <td>BLD 05</td>\n",
       "      <td>NONE</td>\n",
       "      <td>BLD 01 to 07</td>\n",
       "      <td>118</td>\n",
       "      <td>248</td>\n",
       "      <td>B011800</td>\n",
       "      <td>FEDERAL</td>\n",
       "      <td>...</td>\n",
       "      <td>7223256</td>\n",
       "      <td>N</td>\n",
       "      <td>15273.86</td>\n",
       "      <td>GOV/NYC/068</td>\n",
       "      <td>Yes</td>\n",
       "      <td>117600</td>\n",
       "      <td>6451.54</td>\n",
       "      <td>208.00</td>\n",
       "      <td>3676.32</td>\n",
       "      <td>5146.00</td>\n",
       "    </tr>\n",
       "    <tr>\n",
       "      <th>1</th>\n",
       "      <td>ADAMS</td>\n",
       "      <td>BRONX</td>\n",
       "      <td>ADAMS</td>\n",
       "      <td>BLD 05</td>\n",
       "      <td>NONE</td>\n",
       "      <td>BLD 01 to 07</td>\n",
       "      <td>118</td>\n",
       "      <td>248</td>\n",
       "      <td>B011800</td>\n",
       "      <td>FEDERAL</td>\n",
       "      <td>...</td>\n",
       "      <td>7223256</td>\n",
       "      <td>N</td>\n",
       "      <td>16078.55</td>\n",
       "      <td>GOV/NYC/068</td>\n",
       "      <td>Yes</td>\n",
       "      <td>122400</td>\n",
       "      <td>6714.86</td>\n",
       "      <td>208.00</td>\n",
       "      <td>3676.32</td>\n",
       "      <td>5687.37</td>\n",
       "    </tr>\n",
       "    <tr>\n",
       "      <th>2</th>\n",
       "      <td>ADAMS</td>\n",
       "      <td>BRONX</td>\n",
       "      <td>ADAMS</td>\n",
       "      <td>BLD 05</td>\n",
       "      <td>NONE</td>\n",
       "      <td>BLD 01 to 07</td>\n",
       "      <td>118</td>\n",
       "      <td>248</td>\n",
       "      <td>B011800</td>\n",
       "      <td>FEDERAL</td>\n",
       "      <td>...</td>\n",
       "      <td>7223256</td>\n",
       "      <td>N</td>\n",
       "      <td>16492.80</td>\n",
       "      <td>GOV/NYC/068</td>\n",
       "      <td>Yes</td>\n",
       "      <td>108800</td>\n",
       "      <td>5611.90</td>\n",
       "      <td>216.00</td>\n",
       "      <td>3792.97</td>\n",
       "      <td>7087.93</td>\n",
       "    </tr>\n",
       "    <tr>\n",
       "      <th>3</th>\n",
       "      <td>ADAMS</td>\n",
       "      <td>BRONX</td>\n",
       "      <td>ADAMS</td>\n",
       "      <td>BLD 05</td>\n",
       "      <td>NONE</td>\n",
       "      <td>BLD 01 to 07</td>\n",
       "      <td>118</td>\n",
       "      <td>248</td>\n",
       "      <td>B011800</td>\n",
       "      <td>FEDERAL</td>\n",
       "      <td>...</td>\n",
       "      <td>7223256</td>\n",
       "      <td>N</td>\n",
       "      <td>13942.26</td>\n",
       "      <td>GOV/NYC/068</td>\n",
       "      <td>Yes</td>\n",
       "      <td>102400</td>\n",
       "      <td>5281.79</td>\n",
       "      <td>208.00</td>\n",
       "      <td>3792.96</td>\n",
       "      <td>4867.51</td>\n",
       "    </tr>\n",
       "    <tr>\n",
       "      <th>4</th>\n",
       "      <td>ADAMS</td>\n",
       "      <td>BRONX</td>\n",
       "      <td>ADAMS</td>\n",
       "      <td>BLD 05</td>\n",
       "      <td>NONE</td>\n",
       "      <td>BLD 01 to 07</td>\n",
       "      <td>118</td>\n",
       "      <td>248</td>\n",
       "      <td>B011800</td>\n",
       "      <td>FEDERAL</td>\n",
       "      <td>...</td>\n",
       "      <td>7223256</td>\n",
       "      <td>N</td>\n",
       "      <td>14018.84</td>\n",
       "      <td>GOV/NYC/068</td>\n",
       "      <td>Yes</td>\n",
       "      <td>95200</td>\n",
       "      <td>4910.42</td>\n",
       "      <td>200.00</td>\n",
       "      <td>3792.96</td>\n",
       "      <td>5315.46</td>\n",
       "    </tr>\n",
       "  </tbody>\n",
       "</table>\n",
       "<p>5 rows × 27 columns</p>\n",
       "</div>"
      ],
      "text/plain": [
       "  Development Name Borough Account Name Location Meter AMR   Meter Scope  \\\n",
       "0            ADAMS   BRONX        ADAMS   BLD 05      NONE  BLD 01 to 07   \n",
       "1            ADAMS   BRONX        ADAMS   BLD 05      NONE  BLD 01 to 07   \n",
       "2            ADAMS   BRONX        ADAMS   BLD 05      NONE  BLD 01 to 07   \n",
       "3            ADAMS   BRONX        ADAMS   BLD 05      NONE  BLD 01 to 07   \n",
       "4            ADAMS   BRONX        ADAMS   BLD 05      NONE  BLD 01 to 07   \n",
       "\n",
       "  TDS #  EDP  RC Code Funding Source  ... Meter Number Estimated  \\\n",
       "0   118  248  B011800        FEDERAL  ...      7223256         N   \n",
       "1   118  248  B011800        FEDERAL  ...      7223256         N   \n",
       "2   118  248  B011800        FEDERAL  ...      7223256         N   \n",
       "3   118  248  B011800        FEDERAL  ...      7223256         N   \n",
       "4   118  248  B011800        FEDERAL  ...      7223256         N   \n",
       "\n",
       "  Current Charges   Rate Class Bill Analyzed Consumption (KWH) KWH Charges  \\\n",
       "0        15273.86  GOV/NYC/068           Yes            117600     6451.54   \n",
       "1        16078.55  GOV/NYC/068           Yes            122400     6714.86   \n",
       "2        16492.80  GOV/NYC/068           Yes            108800     5611.90   \n",
       "3        13942.26  GOV/NYC/068           Yes            102400     5281.79   \n",
       "4        14018.84  GOV/NYC/068           Yes             95200     4910.42   \n",
       "\n",
       "  Consumption (KW) KW Charges Other charges  \n",
       "0           208.00    3676.32       5146.00  \n",
       "1           208.00    3676.32       5687.37  \n",
       "2           216.00    3792.97       7087.93  \n",
       "3           208.00    3792.96       4867.51  \n",
       "4           200.00    3792.96       5315.46  \n",
       "\n",
       "[5 rows x 27 columns]"
      ]
     },
     "execution_count": 50,
     "metadata": {},
     "output_type": "execute_result"
    }
   ],
   "source": [
    "#removing unrequired columns\n",
    "elec_df=elec_df.drop(['sid','id','position','created_at','created_meta','updated_at','updated_meta','meta'],axis=1)\n",
    "\n",
    "elec_df.head()"
   ]
  },
  {
   "cell_type": "code",
   "execution_count": 15,
   "id": "28723f71",
   "metadata": {},
   "outputs": [
    {
     "data": {
      "text/plain": [
       "(291344, 27)"
      ]
     },
     "execution_count": 15,
     "metadata": {},
     "output_type": "execute_result"
    }
   ],
   "source": [
    "elec_df.shape"
   ]
  },
  {
   "cell_type": "code",
   "execution_count": 16,
   "id": "a17ca617",
   "metadata": {},
   "outputs": [],
   "source": [
    "#removing unrequired columns\n",
    "elec_df=elec_df.drop(['Meter AMR','Meter Scope','TDS #','EDP','RC Code','Funding Source','AMP #','Estimated','Bill Analyzed','Other charges'],axis=1)"
   ]
  },
  {
   "cell_type": "code",
   "execution_count": 17,
   "id": "d74a3ea8",
   "metadata": {},
   "outputs": [
    {
     "data": {
      "text/plain": [
       "(291344, 17)"
      ]
     },
     "execution_count": 17,
     "metadata": {},
     "output_type": "execute_result"
    }
   ],
   "source": [
    "elec_df.shape"
   ]
  },
  {
   "cell_type": "code",
   "execution_count": 18,
   "id": "df9668ec",
   "metadata": {},
   "outputs": [
    {
     "name": "stdout",
     "output_type": "stream",
     "text": [
      "  Development Name Borough Account Name Location               Vendor Name  \\\n",
      "0            ADAMS   BRONX        ADAMS   BLD 05  NEW YORK POWER AUTHORITY   \n",
      "1            ADAMS   BRONX        ADAMS   BLD 05  NEW YORK POWER AUTHORITY   \n",
      "2            ADAMS   BRONX        ADAMS   BLD 05  NEW YORK POWER AUTHORITY   \n",
      "3            ADAMS   BRONX        ADAMS   BLD 05  NEW YORK POWER AUTHORITY   \n",
      "4            ADAMS   BRONX        ADAMS   BLD 05  NEW YORK POWER AUTHORITY   \n",
      "5            ADAMS   BRONX        ADAMS   BLD 05  NEW YORK POWER AUTHORITY   \n",
      "6            ADAMS   BRONX        ADAMS   BLD 05  NEW YORK POWER AUTHORITY   \n",
      "7            ADAMS   BRONX        ADAMS   BLD 05  NEW YORK POWER AUTHORITY   \n",
      "8            ADAMS   BRONX        ADAMS   BLD 05  NEW YORK POWER AUTHORITY   \n",
      "9            ADAMS   BRONX        ADAMS   BLD 05  NEW YORK POWER AUTHORITY   \n",
      "\n",
      "  UMIS BILL ID Revenue Month   Service Start Date     Service End Date # days  \\\n",
      "0      2600212    2013-01-01  2012-12-24T00:00:00  2013-01-24T00:00:00     31   \n",
      "1      2651741    2013-02-01  2013-01-24T00:00:00  2013-02-25T00:00:00     32   \n",
      "2      2703478    2013-03-01  2013-02-25T00:00:00  2013-03-26T00:00:00     29   \n",
      "3      2745558    2013-04-01  2013-03-26T00:00:00  2013-04-24T00:00:00     29   \n",
      "4      2789039    2013-05-01  2013-04-24T00:00:00  2013-05-23T00:00:00     29   \n",
      "5      2843236    2013-06-01  2013-05-23T00:00:00  2013-06-24T00:00:00     32   \n",
      "6      2884928    2013-07-01  2013-06-24T00:00:00  2013-07-24T00:00:00     30   \n",
      "7      2960314    2013-08-01  2013-07-24T00:00:00  2013-08-22T00:00:00     29   \n",
      "8      3007353    2013-09-01  2013-08-22T00:00:00  2013-09-23T00:00:00     32   \n",
      "9      3036581    2013-10-01  2013-09-23T00:00:00  2013-10-23T00:00:00     30   \n",
      "\n",
      "  Meter Number Current Charges   Rate Class Consumption (KWH) KWH Charges  \\\n",
      "0      7223256        15273.86  GOV/NYC/068            117600     6451.54   \n",
      "1      7223256        16078.55  GOV/NYC/068            122400     6714.86   \n",
      "2      7223256        16492.80  GOV/NYC/068            108800     5611.90   \n",
      "3      7223256        13942.26  GOV/NYC/068            102400     5281.79   \n",
      "4      7223256        14018.84  GOV/NYC/068             95200     4910.42   \n",
      "5      7223256        17582.99  GOV/NYC/068            120800     6809.50   \n",
      "6      7223256        23118.76  GOV/NYC/068            159200     8974.10   \n",
      "7      7223256        16696.54  GOV/NYC/068            121600     6854.59   \n",
      "8      7223256        19351.90  GOV/NYC/068            131200     7395.74   \n",
      "9      7223256        14038.11  GOV/NYC/068            103200     5323.06   \n",
      "\n",
      "  Consumption (KW) KW Charges  \n",
      "0           208.00    3676.32  \n",
      "1           208.00    3676.32  \n",
      "2           216.00    3792.97  \n",
      "3           208.00    3792.96  \n",
      "4           200.00    3792.96  \n",
      "5           240.00    4214.40  \n",
      "6           304.00    5338.24  \n",
      "7           240.00    4214.40  \n",
      "8           264.00    4635.84  \n",
      "9           216.00    4003.68  \n"
     ]
    }
   ],
   "source": [
    "print(elec_df.head(10))"
   ]
  },
  {
   "cell_type": "code",
   "execution_count": 19,
   "id": "b3891d80",
   "metadata": {},
   "outputs": [
    {
     "name": "stdout",
     "output_type": "stream",
     "text": [
      "Development Name         0\n",
      "Borough                  0\n",
      "Account Name             0\n",
      "Location              6807\n",
      "Vendor Name              0\n",
      "UMIS BILL ID             0\n",
      "Revenue Month            0\n",
      "Service Start Date       8\n",
      "Service End Date         8\n",
      "# days                   8\n",
      "Meter Number             0\n",
      "Current Charges          0\n",
      "Rate Class               0\n",
      "Consumption (KWH)        0\n",
      "KWH Charges              0\n",
      "Consumption (KW)         0\n",
      "KW Charges               0\n",
      "dtype: int64\n"
     ]
    }
   ],
   "source": [
    "#checking for null records in data\n",
    "print(elec_df.isnull().sum())  \n"
   ]
  },
  {
   "cell_type": "code",
   "execution_count": 20,
   "id": "ad54ed0d",
   "metadata": {},
   "outputs": [],
   "source": [
    "#deleting the rows with null values\n",
    "elec_df.dropna(inplace=True)"
   ]
  },
  {
   "cell_type": "code",
   "execution_count": 21,
   "id": "bb4ea1e8",
   "metadata": {},
   "outputs": [
    {
     "name": "stdout",
     "output_type": "stream",
     "text": [
      "Development Name      0\n",
      "Borough               0\n",
      "Account Name          0\n",
      "Location              0\n",
      "Vendor Name           0\n",
      "UMIS BILL ID          0\n",
      "Revenue Month         0\n",
      "Service Start Date    0\n",
      "Service End Date      0\n",
      "# days                0\n",
      "Meter Number          0\n",
      "Current Charges       0\n",
      "Rate Class            0\n",
      "Consumption (KWH)     0\n",
      "KWH Charges           0\n",
      "Consumption (KW)      0\n",
      "KW Charges            0\n",
      "dtype: int64\n"
     ]
    }
   ],
   "source": [
    "#checking for null records in data\n",
    "print(elec_df.isnull().sum())  \n"
   ]
  },
  {
   "cell_type": "code",
   "execution_count": 22,
   "id": "bf68e5ab",
   "metadata": {},
   "outputs": [
    {
     "name": "stdout",
     "output_type": "stream",
     "text": [
      "(284529, 17)\n",
      "Index(['Development Name', 'Borough', 'Account Name', 'Location',\n",
      "       'Vendor Name', 'UMIS BILL ID', 'Revenue Month', 'Service Start Date',\n",
      "       'Service End Date', '# days', 'Meter Number', 'Current Charges',\n",
      "       'Rate Class', 'Consumption (KWH)', 'KWH Charges', 'Consumption (KW)',\n",
      "       'KW Charges'],\n",
      "      dtype='object')\n",
      "       Development Name   Borough            Account Name Location  \\\n",
      "count            284529    284529                  284529   284529   \n",
      "unique              367         7                     356      495   \n",
      "top            EDENWALD  BROOKLYN  BROWNSVILLE/VAN DYKE I   BLD 01   \n",
      "freq               5984    109022                    6357    33462   \n",
      "\n",
      "                     Vendor Name UMIS BILL ID Revenue Month  \\\n",
      "count                     284529       284529        284529   \n",
      "unique                         4        85488            84   \n",
      "top     NEW YORK POWER AUTHORITY      8888737    2020-04-01   \n",
      "freq                      282477          136          6609   \n",
      "\n",
      "         Service Start Date     Service End Date  # days Meter Number  \\\n",
      "count                284529               284529  284529       284529   \n",
      "unique                  445                  452      56         5265   \n",
      "top     2020-03-25T00:00:00  2020-03-25T00:00:00      29      1125728   \n",
      "freq                   6582                 6572  102769           89   \n",
      "\n",
      "       Current Charges   Rate Class Consumption (KWH) KWH Charges  \\\n",
      "count           284529       284529            284529      284529   \n",
      "unique          199572           13              6508       81061   \n",
      "top               0.00  GOV/NYC/068                 0        0.00   \n",
      "freq             40642       144833            100754      101869   \n",
      "\n",
      "       Consumption (KW) KW Charges  \n",
      "count            284529     284529  \n",
      "unique            12123      82655  \n",
      "top                0.00       0.00  \n",
      "freq              82661     127739  \n",
      "<class 'pandas.core.frame.DataFrame'>\n",
      "Int64Index: 284529 entries, 0 to 291343\n",
      "Data columns (total 17 columns):\n",
      " #   Column              Non-Null Count   Dtype \n",
      "---  ------              --------------   ----- \n",
      " 0   Development Name    284529 non-null  object\n",
      " 1   Borough             284529 non-null  object\n",
      " 2   Account Name        284529 non-null  object\n",
      " 3   Location            284529 non-null  object\n",
      " 4   Vendor Name         284529 non-null  object\n",
      " 5   UMIS BILL ID        284529 non-null  object\n",
      " 6   Revenue Month       284529 non-null  object\n",
      " 7   Service Start Date  284529 non-null  object\n",
      " 8   Service End Date    284529 non-null  object\n",
      " 9   # days              284529 non-null  object\n",
      " 10  Meter Number        284529 non-null  object\n",
      " 11  Current Charges     284529 non-null  object\n",
      " 12  Rate Class          284529 non-null  object\n",
      " 13  Consumption (KWH)   284529 non-null  object\n",
      " 14  KWH Charges         284529 non-null  object\n",
      " 15  Consumption (KW)    284529 non-null  object\n",
      " 16  KW Charges          284529 non-null  object\n",
      "dtypes: object(17)\n",
      "memory usage: 39.1+ MB\n",
      "None\n"
     ]
    }
   ],
   "source": [
    "# number of rows and columns in data\n",
    "print(elec_df.shape)  \n",
    "\n",
    " # listing column names\n",
    "print(elec_df.columns)\n",
    "\n",
    "# summary  of the numerical columns\n",
    "print(elec_df.describe())  \n",
    "\n",
    "#data types and non-null values\n",
    "print(elec_df.info())  \n"
   ]
  },
  {
   "cell_type": "code",
   "execution_count": 23,
   "id": "dbdedf20",
   "metadata": {},
   "outputs": [],
   "source": [
    "#Removing columns which has very less unique values   \n",
    "                 #\"Borough\"  column has also less unique , but we wont remove it as it is place \n",
    "elec_df=elec_df.drop(['Vendor Name'],axis=1)"
   ]
  },
  {
   "cell_type": "code",
   "execution_count": 24,
   "id": "b43d7d98",
   "metadata": {},
   "outputs": [
    {
     "name": "stdout",
     "output_type": "stream",
     "text": [
      "Before Deleting duplicates (284529, 16)\n",
      "After deleting duplicated (274489, 16)\n"
     ]
    }
   ],
   "source": [
    "  # drop duplicate rows\n",
    "print(\"Before Deleting duplicates\",elec_df.shape)\n",
    "elec_df.drop_duplicates(inplace=True)\n",
    "print(\"After deleting duplicated\",elec_df.shape)"
   ]
  },
  {
   "cell_type": "markdown",
   "id": "8feb8c3a",
   "metadata": {},
   "source": [
    "# Inserting Records in Mongodb"
   ]
  },
  {
   "cell_type": "code",
   "execution_count": 26,
   "id": "98931b57",
   "metadata": {},
   "outputs": [
    {
     "data": {
      "text/plain": [
       "<pymongo.results.InsertManyResult at 0x1419a7f6d80>"
      ]
     },
     "execution_count": 26,
     "metadata": {},
     "output_type": "execute_result"
    }
   ],
   "source": [
    "from pymongo import MongoClient\n",
    "client = MongoClient(\"mongodb://localhost:27017\", username='dap',password='dap')\n",
    "db = client['Database']\n",
    "\n",
    "db1 = db['Electrical_Consumption']\n",
    "#delete or drop collection\n",
    "db1.drop()\n",
    "collection = db['Electrical_Consumption']\n",
    "elec_records = elec_df.to_dict('records')\n",
    "collection.insert_many(elec_records)"
   ]
  },
  {
   "cell_type": "code",
   "execution_count": 28,
   "id": "4fa364fe",
   "metadata": {},
   "outputs": [
    {
     "name": "stdout",
     "output_type": "stream",
     "text": [
      "Water_Consumption\n",
      "Electrical_Consumption\n"
     ]
    }
   ],
   "source": [
    "#shows the list of databases in mongodb\n",
    "\n",
    "for x in db.list_collection_names():\n",
    "    print(x)"
   ]
  }
 ],
 "metadata": {
  "kernelspec": {
   "display_name": "Python 3 (ipykernel)",
   "language": "python",
   "name": "python3"
  },
  "language_info": {
   "codemirror_mode": {
    "name": "ipython",
    "version": 3
   },
   "file_extension": ".py",
   "mimetype": "text/x-python",
   "name": "python",
   "nbconvert_exporter": "python",
   "pygments_lexer": "ipython3",
   "version": "3.9.16"
  }
 },
 "nbformat": 4,
 "nbformat_minor": 5
}
