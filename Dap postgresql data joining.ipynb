{
 "cells": [
  {
   "cell_type": "markdown",
   "id": "e2e0665a",
   "metadata": {},
   "source": [
    "# "
   ]
  },
  {
   "cell_type": "code",
   "execution_count": 4,
   "id": "85ea50b7",
   "metadata": {},
   "outputs": [],
   "source": [
    "#importing\n",
    "import csv\n",
    "import psycopg2\n",
    "import matplotlib.pyplot as plt"
   ]
  },
  {
   "cell_type": "code",
   "execution_count": 5,
   "id": "3d6a173e",
   "metadata": {},
   "outputs": [],
   "source": [
    "conn = psycopg2.connect(host='localhost', database='seasonal_consumption', user='dap', password='dap')\n",
    "cur = conn.cursor()"
   ]
  },
  {
   "cell_type": "code",
   "execution_count": 18,
   "id": "0053cd09",
   "metadata": {},
   "outputs": [],
   "source": [
    "cur.execute(\"\"\"select count(*) from electric_consumption;\"\"\")\n",
    "count_elec= cur.fetchall()\n",
    "cur.execute(\"\"\"select count(*) from water_consumption;\"\"\") \n",
    "coun_water = cur.fetchall()\n",
    "cur.execute(\"\"\"select count(*) from newyork_weather;\"\"\")\n",
    "coun_weather = cur.fetchall()\n",
    "\n",
    "conn.commit()\n",
    "\n"
   ]
  },
  {
   "cell_type": "code",
   "execution_count": 19,
   "id": "85814a92",
   "metadata": {},
   "outputs": [
    {
     "name": "stdout",
     "output_type": "stream",
     "text": [
      "[(274489,)] [(41665,)] [(2922,)]\n"
     ]
    }
   ],
   "source": [
    "#checking counts of 3 table\n",
    "print(count_elec,coun_water,coun_weather)"
   ]
  },
  {
   "cell_type": "code",
   "execution_count": 22,
   "id": "dcb1e2da",
   "metadata": {},
   "outputs": [
    {
     "data": {
      "text/plain": [
       "[('RED HOOK EAST',\n",
       "  'BLD 29 - PLP',\n",
       "  datetime.datetime(2020, 4, 1, 0, 0),\n",
       "  '009956005',\n",
       "  '8885952',\n",
       "  2)]"
      ]
     },
     "execution_count": 22,
     "metadata": {},
     "output_type": "execute_result"
    }
   ],
   "source": [
    "#checking for possiblities of cartesian product in joining in table Electrical_consumption\n",
    "cur.execute(\"\"\"SELECT\n",
    "                Account_Name,\n",
    "                \"location\",\n",
    "                Revenue_DATE,\n",
    "                Meter_Number,\n",
    "                BILL_ID,\n",
    "                COUNT(*)\n",
    "                FROM (SELECT \n",
    "                    ELEC.BILL_ID,\n",
    "                    ELEC.Development_Name, \n",
    "                    ELEC.Borough, \n",
    "                    ELEC.Account_Name,\n",
    "                    ELEC.location ,\n",
    "                    ELEC.Revenue_DATE, \n",
    "                    ELEC.Service_Start_Date, \n",
    "                    ELEC.Service_End_Date, \n",
    "                    ELEC.Days, \n",
    "                    ELEC.Meter_Number, \n",
    "                    SUM(ELEC.Consumption_KWH), \n",
    "                    SUM(ELEC.KWH_Charges), \n",
    "                    SUM(ELEC.Consumption_KW), \n",
    "                    SUM(ELEC.KW_Charges)\n",
    "                    FROM electric_consumption ELEC\n",
    "                    GROUP BY 1,2,3,4,5,6,7,8,9,10) ELEC\n",
    "                GROUP BY 1,2,3,4,5\n",
    "                HAVING COUNT(*) >1;\n",
    "                \"\"\")\n",
    "\n",
    "result_elec=cur.fetchall()\n",
    "conn.commit()\n",
    "\n",
    "result_elec"
   ]
  },
  {
   "cell_type": "code",
   "execution_count": 25,
   "id": "18ae298c",
   "metadata": {},
   "outputs": [
    {
     "data": {
      "text/plain": [
       "[(227315,\n",
       "  '8885952',\n",
       "  'RED HOOK EAST',\n",
       "  'BROOKLYN',\n",
       "  'RED HOOK EAST',\n",
       "  'BLD 29 - PLP',\n",
       "  datetime.datetime(2020, 4, 1, 0, 0),\n",
       "  datetime.datetime(2020, 4, 9, 0, 0),\n",
       "  datetime.datetime(2020, 5, 6, 0, 0),\n",
       "  27,\n",
       "  '009956005',\n",
       "  Decimal('3240.0'),\n",
       "  Decimal('224.9'),\n",
       "  Decimal('5.0'),\n",
       "  Decimal('0.0'),\n",
       "  'EL2'),\n",
       " (265105,\n",
       "  '8885952',\n",
       "  'RED HOOK EAST',\n",
       "  'BROOKLYN',\n",
       "  'RED HOOK EAST',\n",
       "  'BLD 29 - PLP',\n",
       "  datetime.datetime(2020, 4, 1, 0, 0),\n",
       "  datetime.datetime(2020, 4, 9, 0, 0),\n",
       "  datetime.datetime(2020, 5, 8, 0, 0),\n",
       "  29,\n",
       "  '009956005',\n",
       "  Decimal('3240.0'),\n",
       "  Decimal('224.9'),\n",
       "  Decimal('5.0'),\n",
       "  Decimal('0.0'),\n",
       "  'EL2')]"
      ]
     },
     "execution_count": 25,
     "metadata": {},
     "output_type": "execute_result"
    }
   ],
   "source": [
    "#we got the below 2 records from above observation which can cause to cartesian product\n",
    "cur.execute(\"\"\"select * from electric_consumption ELEC\n",
    "                where 1=1\n",
    "                AND TRIM(Account_Name) ='RED HOOK EAST'\n",
    "                AND TRIM(ELEC.location)= 'BLD 29 - PLP'\n",
    "                AND Meter_Number='009956005'\n",
    "                AND BILL_ID= '8885952';\n",
    "                \"\"\")\n",
    "\n",
    "result_elec_d=cur.fetchall()\n",
    "conn.commit()\n",
    "\n",
    "result_elec_d"
   ]
  },
  {
   "cell_type": "code",
   "execution_count": 30,
   "id": "92deb6e4",
   "metadata": {},
   "outputs": [
    {
     "name": "stdout",
     "output_type": "stream",
     "text": [
      "Record Deleted\n"
     ]
    }
   ],
   "source": [
    "#As the bill_id and consumption of electricity of 2 records are same but the service_end_date & days is different, \n",
    "#it is possible other record is duplicated\n",
    "#we will need to delete the one record to avoid the cross join\n",
    "try:\n",
    "    cur.execute(\"\"\"DELETE FROM electric_consumption ELEC\n",
    "        where Account_Name ='RED HOOK EAST'\n",
    "        AND TRIM(ELEC.location)= 'BLD 29 - PLP'\n",
    "        AND Meter_Number='009956005'\n",
    "        AND BILL_ID= '8885952'\n",
    "        AND days=27\n",
    "        \"\"\")\n",
    "    conn.commit()\n",
    "    print(\"Record Deleted\")\n",
    "    \n",
    "except Exception as e:\n",
    "    print(f\"Error: {e}\")\n",
    "    conn.rollback()"
   ]
  },
  {
   "cell_type": "code",
   "execution_count": null,
   "id": "ba9a16eb",
   "metadata": {},
   "outputs": [],
   "source": [
    "#changed the column datatype\n",
    "\n",
    "cur.execute(\"\"\"ALTER TABLE water_consumption ALTER COLUMN Consumption_hcf  TYPE integer USING (Consumption_hcf::integer);\"\"\")\n",
    "conn.commit()"
   ]
  },
  {
   "cell_type": "code",
   "execution_count": 32,
   "id": "0848ebe2",
   "metadata": {},
   "outputs": [
    {
     "data": {
      "text/plain": [
       "[('8191723',\n",
       "  'FHA REPOSSESSED HOUSES (GROUP IV)',\n",
       "  '111-20 205TH STREET',\n",
       "  datetime.datetime(2019, 9, 1, 0, 0),\n",
       "  'V48022226',\n",
       "  2),\n",
       " ('8190854',\n",
       "  'SOUTH JAMAICA II',\n",
       "  'BLD 17',\n",
       "  datetime.datetime(2019, 9, 1, 0, 0),\n",
       "  'G13008478',\n",
       "  2)]"
      ]
     },
     "execution_count": 32,
     "metadata": {},
     "output_type": "execute_result"
    }
   ],
   "source": [
    "# checking it in table Water_Consumption\n",
    "\n",
    "#ALTER TABLE water_consumption ALTER COLUMN Consumption_hcf  TYPE integer USING (Consumption_hcf::integer);\n",
    "\n",
    "cur.execute(\"\"\"\n",
    "    SELECT\n",
    "    WAT.BILL_ID,\n",
    "    WAT.Account_Name,\n",
    "    WAT.location ,\n",
    "    WAT.Revenue_DATE,\n",
    "    WAT.Meter_Number,\n",
    "    COUNT(*)\n",
    "        FROM (SELECT \n",
    "                WAT.BILL_ID,\n",
    "                WAT.Development_Name, \n",
    "                WAT.Borough, \n",
    "                WAT.Account_Name,\n",
    "                WAT.location,\n",
    "                WAT.Revenue_DATE, \n",
    "                WAT.Service_Start_Date, \n",
    "                WAT.Service_End_Date, \n",
    "                WAT.Days, \n",
    "                WAT.Meter_Number, \n",
    "                SUM(WAT.Consumption_hcf)\n",
    "                    FROM water_consumption WAT\n",
    "                    GROUP BY 1,2,3,4,5,6,7,8,9,10)WAT\n",
    "        GROUP BY 1,2,3,4,5\n",
    "    HAVING COUNT(*) >1;\n",
    "    \"\"\")\n",
    "result_water=cur.fetchall()\n",
    "conn.commit()\n",
    "\n",
    "result_water"
   ]
  },
  {
   "cell_type": "code",
   "execution_count": 33,
   "id": "8c014789",
   "metadata": {},
   "outputs": [
    {
     "data": {
      "text/plain": [
       "[(4352,\n",
       "  '8191723',\n",
       "  'FHA REPOSSESSED HOUSES (GROUP IV)',\n",
       "  'FHA',\n",
       "  'FHA REPOSSESSED HOUSES (GROUP IV)',\n",
       "  '111-20 205TH STREET',\n",
       "  datetime.datetime(2019, 9, 1, 0, 0),\n",
       "  datetime.datetime(2019, 8, 22, 0, 0),\n",
       "  datetime.datetime(2019, 9, 25, 0, 0),\n",
       "  34,\n",
       "  'V48022226',\n",
       "  100,\n",
       "  'Basic Water and Sewer'),\n",
       " (19897,\n",
       "  '8191723',\n",
       "  'FHA REPOSSESSED HOUSES (GROUP IV)',\n",
       "  'FHA',\n",
       "  'FHA REPOSSESSED HOUSES (GROUP IV)',\n",
       "  '111-20 205TH STREET',\n",
       "  datetime.datetime(2019, 9, 1, 0, 0),\n",
       "  datetime.datetime(2019, 8, 22, 0, 0),\n",
       "  datetime.datetime(2019, 9, 22, 0, 0),\n",
       "  31,\n",
       "  'V48022226',\n",
       "  100,\n",
       "  'Basic Water and Sewer')]"
      ]
     },
     "execution_count": 33,
     "metadata": {},
     "output_type": "execute_result"
    }
   ],
   "source": [
    "#we got the below 4 records from above observation which can cause to cartesian product\n",
    "cur.execute(\"\"\"select * from water_consumption WAT\n",
    "            WHERE TRIM(Account_Name) = 'FHA REPOSSESSED HOUSES (GROUP IV)'\n",
    "            AND TRIM(WAT.location) ='111-20 205TH STREET'\n",
    "            AND BILL_ID ='8191723'\n",
    "            AND Meter_Number = 'V48022226'\n",
    "            \"\"\")\n",
    "result_water_d=cur.fetchall()\n",
    "conn.commit()\n",
    "\n",
    "result_water_d"
   ]
  },
  {
   "cell_type": "code",
   "execution_count": 34,
   "id": "aa410dc1",
   "metadata": {},
   "outputs": [
    {
     "name": "stdout",
     "output_type": "stream",
     "text": [
      "Record Deleted\n"
     ]
    }
   ],
   "source": [
    "#As the bill_id and consumption of water of above 2 records are same but the service_end_date & days is different, \n",
    "#it is possible other record is duplicated\n",
    "#we will need to delete the one record to avoid the cross join\n",
    "try:\n",
    "    cur.execute(\"\"\"DELETE FROM water_consumption WAT\n",
    "        WHERE TRIM(Account_Name) = 'FHA REPOSSESSED HOUSES (GROUP IV)'\n",
    "        AND TRIM(WAT.location) ='111-20 205TH STREET'\n",
    "        AND BILL_ID ='8191723'\n",
    "        AND Meter_Number = 'V48022226'\n",
    "        AND days=34\n",
    "        \"\"\")\n",
    "    conn.commit()\n",
    "    print(\"Record Deleted\")\n",
    "    \n",
    "except Exception as e:\n",
    "    print(f\"Error: {e}\")\n",
    "    conn.rollback()"
   ]
  },
  {
   "cell_type": "code",
   "execution_count": 35,
   "id": "f39f30d8",
   "metadata": {},
   "outputs": [
    {
     "data": {
      "text/plain": [
       "[(8184,\n",
       "  '8190854',\n",
       "  'SOUTH JAMAICA II',\n",
       "  'QUEENS',\n",
       "  'SOUTH JAMAICA II',\n",
       "  'BLD 17',\n",
       "  datetime.datetime(2019, 9, 1, 0, 0),\n",
       "  datetime.datetime(2019, 8, 22, 0, 0),\n",
       "  datetime.datetime(2019, 9, 22, 0, 0),\n",
       "  31,\n",
       "  'G13008478',\n",
       "  53,\n",
       "  'Basic Water and Sewer'),\n",
       " (36823,\n",
       "  '8190854',\n",
       "  'SOUTH JAMAICA II',\n",
       "  'QUEENS',\n",
       "  'SOUTH JAMAICA II',\n",
       "  'BLD 17',\n",
       "  datetime.datetime(2019, 9, 1, 0, 0),\n",
       "  datetime.datetime(2010, 8, 22, 0, 0),\n",
       "  datetime.datetime(2019, 9, 22, 0, 0),\n",
       "  3318,\n",
       "  'G13008478',\n",
       "  0,\n",
       "  'Basic Water and Sewer')]"
      ]
     },
     "execution_count": 35,
     "metadata": {},
     "output_type": "execute_result"
    }
   ],
   "source": [
    "#we got the below 4 records from above observation which can cause to cartesian product\n",
    "cur.execute(\"\"\"select * from water_consumption WAT\n",
    "            WHERE TRIM(Account_Name) = 'SOUTH JAMAICA II'\n",
    "            AND TRIM(WAT.location) ='BLD 17'\n",
    "            AND BILL_ID ='8190854'\n",
    "            AND Meter_Number = 'G13008478'\n",
    "            \"\"\")\n",
    "result_water_d2=cur.fetchall()\n",
    "conn.commit()\n",
    "\n",
    "result_water_d2"
   ]
  },
  {
   "cell_type": "code",
   "execution_count": 36,
   "id": "c25ca34a",
   "metadata": {},
   "outputs": [
    {
     "name": "stdout",
     "output_type": "stream",
     "text": [
      "Record Deleted\n"
     ]
    }
   ],
   "source": [
    "#As the bill_id of above 2 records are same and consumption of water is 0 \n",
    "#it is possible other record is wrongly entered \n",
    "#we will need to delete the one record to avoid the cross join\n",
    "try:\n",
    "    cur.execute(\"\"\"DELETE FROM water_consumption WAT\n",
    "        WHERE TRIM(Account_Name) = 'SOUTH JAMAICA II'\n",
    "        AND TRIM(WAT.location) ='BLD 17'\n",
    "        AND BILL_ID ='8190854'\n",
    "        AND Meter_Number = 'G13008478'\n",
    "        AND days=3318\n",
    "        \"\"\")\n",
    "    conn.commit()\n",
    "    print(\"Record Deleted\")\n",
    "    \n",
    "except Exception as e:\n",
    "    print(f\"Error: {e}\")\n",
    "    conn.rollback()"
   ]
  },
  {
   "cell_type": "code",
   "execution_count": 60,
   "id": "e2f176bd",
   "metadata": {},
   "outputs": [],
   "source": [
    "\n",
    "try:\n",
    "    cur.execute('''SELECT\n",
    "                ELEC.Development_Name, \n",
    "                ELEC.Borough, \n",
    "                ELEC.Account_Name,\n",
    "                ELEC.location ,\n",
    "                ELEC.Revenue_DATE, \n",
    "                ELEC.Service_Start_Date, \n",
    "                ELEC.Service_End_Date, \n",
    "                ELEC.Days, \n",
    "                ELEC.Consumption_KWH, \n",
    "                ELEC.KWH_Charges, \n",
    "                ELEC.Consumption_KW, \n",
    "                ELEC.KW_Charges, \n",
    "                WAT.Consumption_hcf AS Consumption_hcf\n",
    "                FROM(SELECT\n",
    "                    ELEC.BILL_ID AS BILL_ID,\n",
    "                    ELEC.Development_Name AS Development_Name, \n",
    "                    ELEC.Borough AS Borough, \n",
    "                    ELEC.Account_Name AS Account_Name,\n",
    "                    ELEC.location AS \"location\" ,\n",
    "                    ELEC.Revenue_DATE AS Revenue_DATE, \n",
    "                    ELEC.Service_Start_Date AS Service_Start_Date, \n",
    "                    ELEC.Service_End_Date AS Service_End_Date, \n",
    "                    ELEC.Days AS Days, \n",
    "                    ELEC.Meter_Number AS Meter_Number, \n",
    "                    SUM(ELEC.Consumption_KWH) AS Consumption_KWH, \n",
    "                    SUM(ELEC.KWH_Charges) AS KWH_Charges, \n",
    "                    SUM(ELEC.Consumption_KW) AS Consumption_KW, \n",
    "                    SUM(ELEC.KW_Charges) AS KW_Charges\n",
    "                    FROM electric_consumption ELEC\n",
    "                    GROUP BY 1,2,3,4,5,6,7,8,9,10) ELEC\n",
    "                Left JOIN (SELECT \n",
    "                        WAT.BILL_ID,\n",
    "                        WAT.Development_Name, \n",
    "                        WAT.Borough, \n",
    "                        WAT.Account_Name,\n",
    "                        WAT.location ,\n",
    "                        WAT.Revenue_DATE, \n",
    "                        WAT.Service_Start_Date, \n",
    "                        WAT.Service_End_Date, \n",
    "                        WAT.Days, \n",
    "                        WAT.Meter_Number, \n",
    "                        SUM(WAT.Consumption_hcf) Consumption_hcf\n",
    "                    FROM water_consumption WAT\n",
    "                    GROUP BY 1,2,3,4,5,6,7,8,9,10) WAT\n",
    "                ON ELEC.revenue_date= WAT.revenue_date\n",
    "                AND ELEC.location=WAT.location\n",
    "                AND ELEC.Account_Name=WAT.Account_Name;\n",
    "                ''')\n",
    "    result_join=cur.fetchall()\n",
    "    conn.commit()\n",
    "except psycopg2.errors.InFailedSqlTransaction as e:\n",
    "    conn.rollback()\n",
    "    print(\"Transaction rolled back:\", e)\n",
    "except Exception as e:\n",
    "    # handle any other exceptions that might occur\n",
    "    print(\"Error occurred:\", e)"
   ]
  },
  {
   "cell_type": "code",
   "execution_count": 59,
   "id": "4f3558fd",
   "metadata": {},
   "outputs": [
    {
     "name": "stdout",
     "output_type": "stream",
     "text": [
      "[('FHA REPOSSESSED HOUSES (GROUP IX)', 'FHA', 'FHA REPOSSESSED HOUSES (GROUP IX)', '349 BERRIMAN STREET', datetime.datetime(2013, 1, 1, 0, 0), datetime.datetime(2012, 12, 24, 0, 0), datetime.datetime(2013, 1, 24, 0, 0), 31, Decimal('67.0'), Decimal('5.2'), Decimal('0.0'), Decimal('0.0'), 12), ('FHA REPOSSESSED HOUSES (GROUP IX)', 'FHA', 'FHA REPOSSESSED HOUSES (GROUP IX)', '359 BERRIMAN STREET', datetime.datetime(2013, 1, 1, 0, 0), datetime.datetime(2012, 12, 24, 0, 0), datetime.datetime(2013, 1, 24, 0, 0), 31, Decimal('20.0'), Decimal('0.0'), Decimal('0.0'), Decimal('0.0'), 13), ('BOYNTON AVENUE REHAB', 'BRONX', 'BOYNTON AVENUE REHAB', 'BLD 01', datetime.datetime(2013, 1, 1, 0, 0), datetime.datetime(2012, 12, 24, 0, 0), datetime.datetime(2013, 1, 24, 0, 0), 31, Decimal('3132.0'), Decimal('181.8'), Decimal('5.4'), Decimal('67.5'), 767), ('CONLON LIHFE TOWER', 'QUEENS', 'CONLON LIHFE TOWER', 'BLD 01', datetime.datetime(2013, 1, 1, 0, 0), datetime.datetime(2012, 12, 24, 0, 0), datetime.datetime(2013, 1, 24, 0, 0), 31, Decimal('100800.0'), Decimal('5529.9'), Decimal('168.0'), Decimal('3063.6'), 7375), ('EAST 165TH STREET-BRYANT AVENUE', 'BRONX', 'EAST 165TH STREET-BRYANT AVENUE', 'BLD 01', datetime.datetime(2013, 1, 1, 0, 0), datetime.datetime(2012, 12, 24, 0, 0), datetime.datetime(2013, 1, 24, 0, 0), 31, Decimal('5436.0'), Decimal('315.5'), Decimal('8.6'), Decimal('108.0'), 3676), ('FENIMORE-LEFFERTS', 'BROOKLYN', 'FENIMORE-LEFFERTS', 'BLD 01', datetime.datetime(2013, 1, 1, 0, 0), datetime.datetime(2012, 12, 24, 0, 0), datetime.datetime(2013, 1, 24, 0, 0), 31, Decimal('681.0'), Decimal('53.2'), Decimal('0.0'), Decimal('0.0'), 75), ('FORT WASHINGTON AVENUE REHAB', 'MANHATTAN', 'FORT WASHINGTON AVENUE REHAB', 'BLD 01', datetime.datetime(2013, 1, 1, 0, 0), datetime.datetime(2012, 12, 24, 0, 0), datetime.datetime(2013, 1, 24, 0, 0), 31, Decimal('102400.0'), Decimal('5942.3'), Decimal('212.0'), Decimal('2650.0'), 3912), ('FORT WASHINGTON AVENUE REHAB', 'MANHATTAN', 'FORT WASHINGTON AVENUE REHAB', 'BLD 01', datetime.datetime(2013, 1, 1, 0, 0), datetime.datetime(2012, 12, 24, 0, 0), datetime.datetime(2013, 1, 24, 0, 0), 31, Decimal('511.0'), Decimal('39.9'), Decimal('0.0'), Decimal('0.0'), 3912), ('HOWARD AVENUE', 'BROOKLYN', 'HOWARD AVENUE', 'BLD 01', datetime.datetime(2013, 1, 1, 0, 0), datetime.datetime(2012, 12, 24, 0, 0), datetime.datetime(2013, 1, 24, 0, 0), 31, Decimal('5130.0'), Decimal('297.7'), Decimal('7.6'), Decimal('94.5'), 1115)]\n",
      "Count of joining to tables 27031\n"
     ]
    }
   ],
   "source": [
    "print(result_join[1:10])\n",
    "print(\"Count of joining to tables\",len(result_join))"
   ]
  },
  {
   "cell_type": "code",
   "execution_count": null,
   "id": "5775fda3",
   "metadata": {},
   "outputs": [],
   "source": [
    "\n",
    "cur.close()\n",
    "conn.close()"
   ]
  }
 ],
 "metadata": {
  "kernelspec": {
   "display_name": "Python 3 (ipykernel)",
   "language": "python",
   "name": "python3"
  },
  "language_info": {
   "codemirror_mode": {
    "name": "ipython",
    "version": 3
   },
   "file_extension": ".py",
   "mimetype": "text/x-python",
   "name": "python",
   "nbconvert_exporter": "python",
   "pygments_lexer": "ipython3",
   "version": "3.9.16"
  }
 },
 "nbformat": 4,
 "nbformat_minor": 5
}
