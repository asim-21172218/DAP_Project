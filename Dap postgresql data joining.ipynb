{
 "cells": [
  {
   "cell_type": "markdown",
   "id": "e2e0665a",
   "metadata": {},
   "source": [
    "# "
   ]
  },
  {
   "cell_type": "code",
   "execution_count": 4,
   "id": "85ea50b7",
   "metadata": {},
   "outputs": [],
   "source": [
    "#importing\n",
    "import csv\n",
    "import psycopg2\n",
    "import matplotlib.pyplot as plt"
   ]
  },
  {
   "cell_type": "code",
   "execution_count": 5,
   "id": "3d6a173e",
   "metadata": {},
   "outputs": [],
   "source": [
    "conn = psycopg2.connect(host='localhost', database='seasonal_consumption', user='dap', password='dap')\n",
    "cur = conn.cursor()"
   ]
  },
  {
   "cell_type": "code",
   "execution_count": 18,
   "id": "ac96d9f4",
   "metadata": {},
   "outputs": [],
   "source": [
    "cur.execute(\"\"\"select count(*) from electric_consumption;\"\"\")\n",
    "count_elec= cur.fetchall()\n",
    "cur.execute(\"\"\"select count(*) from water_consumption;\"\"\") \n",
    "coun_water = cur.fetchall()\n",
    "cur.execute(\"\"\"select count(*) from newyork_weather;\"\"\")\n",
    "coun_weather = cur.fetchall()\n",
    "\n",
    "conn.commit()\n",
    "\n"
   ]
  },
  {
   "cell_type": "code",
   "execution_count": 19,
   "id": "8c1a782e",
   "metadata": {},
   "outputs": [
    {
     "name": "stdout",
     "output_type": "stream",
     "text": [
      "[(274489,)] [(41665,)] [(2922,)]\n"
     ]
    }
   ],
   "source": [
    "#checking counts of 3 table\n",
    "print(count_elec,coun_water,coun_weather)"
   ]
  },
  {
   "cell_type": "code",
   "execution_count": 22,
   "id": "8846f275",
   "metadata": {},
   "outputs": [
    {
     "data": {
      "text/plain": [
       "[('RED HOOK EAST',\n",
       "  'BLD 29 - PLP',\n",
       "  datetime.datetime(2020, 4, 1, 0, 0),\n",
       "  '009956005',\n",
       "  '8885952',\n",
       "  2)]"
      ]
     },
     "execution_count": 22,
     "metadata": {},
     "output_type": "execute_result"
    }
   ],
   "source": [
    "#checking for possiblities of cartesian product in joining in table Electrical_consumption\n",
    "cur.execute(\"\"\"SELECT\n",
    "                Account_Name,\n",
    "                \"location\",\n",
    "                Revenue_DATE,\n",
    "                Meter_Number,\n",
    "                BILL_ID,\n",
    "                COUNT(*)\n",
    "                FROM (SELECT \n",
    "                    ELEC.BILL_ID,\n",
    "                    ELEC.Development_Name, \n",
    "                    ELEC.Borough, \n",
    "                    ELEC.Account_Name,\n",
    "                    ELEC.location ,\n",
    "                    ELEC.Revenue_DATE, \n",
    "                    ELEC.Service_Start_Date, \n",
    "                    ELEC.Service_End_Date, \n",
    "                    ELEC.Days, \n",
    "                    ELEC.Meter_Number, \n",
    "                    SUM(ELEC.Consumption_KWH), \n",
    "                    SUM(ELEC.KWH_Charges), \n",
    "                    SUM(ELEC.Consumption_KW), \n",
    "                    SUM(ELEC.KW_Charges)\n",
    "                    FROM electric_consumption ELEC\n",
    "                    GROUP BY 1,2,3,4,5,6,7,8,9,10) ELEC\n",
    "                GROUP BY 1,2,3,4,5\n",
    "                HAVING COUNT(*) >1;\n",
    "                \"\"\")\n",
    "\n",
    "result_elec=cur.fetchall()\n",
    "conn.commit()\n",
    "\n",
    "result_elec"
   ]
  },
  {
   "cell_type": "code",
   "execution_count": 25,
   "id": "73b99311",
   "metadata": {},
   "outputs": [
    {
     "data": {
      "text/plain": [
       "[(227315,\n",
       "  '8885952',\n",
       "  'RED HOOK EAST',\n",
       "  'BROOKLYN',\n",
       "  'RED HOOK EAST',\n",
       "  'BLD 29 - PLP',\n",
       "  datetime.datetime(2020, 4, 1, 0, 0),\n",
       "  datetime.datetime(2020, 4, 9, 0, 0),\n",
       "  datetime.datetime(2020, 5, 6, 0, 0),\n",
       "  27,\n",
       "  '009956005',\n",
       "  Decimal('3240.0'),\n",
       "  Decimal('224.9'),\n",
       "  Decimal('5.0'),\n",
       "  Decimal('0.0'),\n",
       "  'EL2'),\n",
       " (265105,\n",
       "  '8885952',\n",
       "  'RED HOOK EAST',\n",
       "  'BROOKLYN',\n",
       "  'RED HOOK EAST',\n",
       "  'BLD 29 - PLP',\n",
       "  datetime.datetime(2020, 4, 1, 0, 0),\n",
       "  datetime.datetime(2020, 4, 9, 0, 0),\n",
       "  datetime.datetime(2020, 5, 8, 0, 0),\n",
       "  29,\n",
       "  '009956005',\n",
       "  Decimal('3240.0'),\n",
       "  Decimal('224.9'),\n",
       "  Decimal('5.0'),\n",
       "  Decimal('0.0'),\n",
       "  'EL2')]"
      ]
     },
     "execution_count": 25,
     "metadata": {},
     "output_type": "execute_result"
    }
   ],
   "source": [
    "#we got the below 2 records from above observation which can cause to cartesian product\n",
    "cur.execute(\"\"\"select * from electric_consumption ELEC\n",
    "                where 1=1\n",
    "                AND TRIM(Account_Name) ='RED HOOK EAST'\n",
    "                AND TRIM(ELEC.location)= 'BLD 29 - PLP'\n",
    "                AND Meter_Number='009956005'\n",
    "                AND BILL_ID= '8885952';\n",
    "                \"\"\")\n",
    "\n",
    "result_elec_d=cur.fetchall()\n",
    "conn.commit()\n",
    "\n",
    "result_elec_d"
   ]
  },
  {
   "cell_type": "code",
   "execution_count": 30,
   "id": "35c468e9",
   "metadata": {},
   "outputs": [
    {
     "name": "stdout",
     "output_type": "stream",
     "text": [
      "Record Deleted\n"
     ]
    }
   ],
   "source": [
    "#As the bill_id and consumption of electricity of 2 records are same but the service_end_date & days is different, \n",
    "#it is possible other record is duplicated\n",
    "#we will need to delete the one record to avoid the cross join\n",
    "try:\n",
    "    cur.execute(\"\"\"DELETE FROM electric_consumption ELEC\n",
    "        where Account_Name ='RED HOOK EAST'\n",
    "        AND TRIM(ELEC.location)= 'BLD 29 - PLP'\n",
    "        AND Meter_Number='009956005'\n",
    "        AND BILL_ID= '8885952'\n",
    "        AND days=27\n",
    "        \"\"\")\n",
    "    conn.commit()\n",
    "    print(\"Record Deleted\")\n",
    "    \n",
    "except Exception as e:\n",
    "    print(f\"Error: {e}\")\n",
    "    conn.rollback()"
   ]
  },
  {
   "cell_type": "code",
   "execution_count": 32,
   "id": "7996de2c",
   "metadata": {},
   "outputs": [
    {
     "data": {
      "text/plain": [
       "[('8191723',\n",
       "  'FHA REPOSSESSED HOUSES (GROUP IV)',\n",
       "  '111-20 205TH STREET',\n",
       "  datetime.datetime(2019, 9, 1, 0, 0),\n",
       "  'V48022226',\n",
       "  2),\n",
       " ('8190854',\n",
       "  'SOUTH JAMAICA II',\n",
       "  'BLD 17',\n",
       "  datetime.datetime(2019, 9, 1, 0, 0),\n",
       "  'G13008478',\n",
       "  2)]"
      ]
     },
     "execution_count": 32,
     "metadata": {},
     "output_type": "execute_result"
    }
   ],
   "source": [
    "# checking it in table Water_Consumption\n",
    "\n",
    "#ALTER TABLE water_consumption ALTER COLUMN Consumption_hcf  TYPE integer USING (Consumption_hcf::integer);\n",
    "\n",
    "cur.execute(\"\"\"\n",
    "    SELECT\n",
    "    WAT.BILL_ID,\n",
    "    WAT.Account_Name,\n",
    "    WAT.location ,\n",
    "    WAT.Revenue_DATE,\n",
    "    WAT.Meter_Number,\n",
    "    COUNT(*)\n",
    "        FROM (SELECT \n",
    "                WAT.BILL_ID,\n",
    "                WAT.Development_Name, \n",
    "                WAT.Borough, \n",
    "                WAT.Account_Name,\n",
    "                WAT.location,\n",
    "                WAT.Revenue_DATE, \n",
    "                WAT.Service_Start_Date, \n",
    "                WAT.Service_End_Date, \n",
    "                WAT.Days, \n",
    "                WAT.Meter_Number, \n",
    "                SUM(WAT.Consumption_hcf)\n",
    "                    FROM water_consumption WAT\n",
    "                    GROUP BY 1,2,3,4,5,6,7,8,9,10)WAT\n",
    "        GROUP BY 1,2,3,4,5\n",
    "    HAVING COUNT(*) >1;\n",
    "    \"\"\")\n",
    "result_water=cur.fetchall()\n",
    "conn.commit()\n",
    "\n",
    "result_water"
   ]
  },
  {
   "cell_type": "code",
   "execution_count": 33,
   "id": "3a643898",
   "metadata": {},
   "outputs": [
    {
     "data": {
      "text/plain": [
       "[(4352,\n",
       "  '8191723',\n",
       "  'FHA REPOSSESSED HOUSES (GROUP IV)',\n",
       "  'FHA',\n",
       "  'FHA REPOSSESSED HOUSES (GROUP IV)',\n",
       "  '111-20 205TH STREET',\n",
       "  datetime.datetime(2019, 9, 1, 0, 0),\n",
       "  datetime.datetime(2019, 8, 22, 0, 0),\n",
       "  datetime.datetime(2019, 9, 25, 0, 0),\n",
       "  34,\n",
       "  'V48022226',\n",
       "  100,\n",
       "  'Basic Water and Sewer'),\n",
       " (19897,\n",
       "  '8191723',\n",
       "  'FHA REPOSSESSED HOUSES (GROUP IV)',\n",
       "  'FHA',\n",
       "  'FHA REPOSSESSED HOUSES (GROUP IV)',\n",
       "  '111-20 205TH STREET',\n",
       "  datetime.datetime(2019, 9, 1, 0, 0),\n",
       "  datetime.datetime(2019, 8, 22, 0, 0),\n",
       "  datetime.datetime(2019, 9, 22, 0, 0),\n",
       "  31,\n",
       "  'V48022226',\n",
       "  100,\n",
       "  'Basic Water and Sewer')]"
      ]
     },
     "execution_count": 33,
     "metadata": {},
     "output_type": "execute_result"
    }
   ],
   "source": [
    "#we got the below 4 records from above observation which can cause to cartesian product\n",
    "cur.execute(\"\"\"select * from water_consumption WAT\n",
    "            WHERE TRIM(Account_Name) = 'FHA REPOSSESSED HOUSES (GROUP IV)'\n",
    "            AND TRIM(WAT.location) ='111-20 205TH STREET'\n",
    "            AND BILL_ID ='8191723'\n",
    "            AND Meter_Number = 'V48022226'\n",
    "            \"\"\")\n",
    "result_water_d=cur.fetchall()\n",
    "conn.commit()\n",
    "\n",
    "result_water_d"
   ]
  },
  {
   "cell_type": "code",
   "execution_count": 34,
   "id": "5f6f6dda",
   "metadata": {},
   "outputs": [
    {
     "name": "stdout",
     "output_type": "stream",
     "text": [
      "Record Deleted\n"
     ]
    }
   ],
   "source": [
    "#As the bill_id and consumption of water of above 2 records are same but the service_end_date & days is different, \n",
    "#it is possible other record is duplicated\n",
    "#we will need to delete the one record to avoid the cross join\n",
    "try:\n",
    "    cur.execute(\"\"\"DELETE FROM water_consumption WAT\n",
    "        WHERE TRIM(Account_Name) = 'FHA REPOSSESSED HOUSES (GROUP IV)'\n",
    "        AND TRIM(WAT.location) ='111-20 205TH STREET'\n",
    "        AND BILL_ID ='8191723'\n",
    "        AND Meter_Number = 'V48022226'\n",
    "        AND days=34\n",
    "        \"\"\")\n",
    "    conn.commit()\n",
    "    print(\"Record Deleted\")\n",
    "    \n",
    "except Exception as e:\n",
    "    print(f\"Error: {e}\")\n",
    "    conn.rollback()"
   ]
  },
  {
   "cell_type": "code",
   "execution_count": 35,
   "id": "c8bdf563",
   "metadata": {},
   "outputs": [
    {
     "data": {
      "text/plain": [
       "[(8184,\n",
       "  '8190854',\n",
       "  'SOUTH JAMAICA II',\n",
       "  'QUEENS',\n",
       "  'SOUTH JAMAICA II',\n",
       "  'BLD 17',\n",
       "  datetime.datetime(2019, 9, 1, 0, 0),\n",
       "  datetime.datetime(2019, 8, 22, 0, 0),\n",
       "  datetime.datetime(2019, 9, 22, 0, 0),\n",
       "  31,\n",
       "  'G13008478',\n",
       "  53,\n",
       "  'Basic Water and Sewer'),\n",
       " (36823,\n",
       "  '8190854',\n",
       "  'SOUTH JAMAICA II',\n",
       "  'QUEENS',\n",
       "  'SOUTH JAMAICA II',\n",
       "  'BLD 17',\n",
       "  datetime.datetime(2019, 9, 1, 0, 0),\n",
       "  datetime.datetime(2010, 8, 22, 0, 0),\n",
       "  datetime.datetime(2019, 9, 22, 0, 0),\n",
       "  3318,\n",
       "  'G13008478',\n",
       "  0,\n",
       "  'Basic Water and Sewer')]"
      ]
     },
     "execution_count": 35,
     "metadata": {},
     "output_type": "execute_result"
    }
   ],
   "source": [
    "#we got the below 4 records from above observation which can cause to cartesian product\n",
    "cur.execute(\"\"\"select * from water_consumption WAT\n",
    "            WHERE TRIM(Account_Name) = 'SOUTH JAMAICA II'\n",
    "            AND TRIM(WAT.location) ='BLD 17'\n",
    "            AND BILL_ID ='8190854'\n",
    "            AND Meter_Number = 'G13008478'\n",
    "            \"\"\")\n",
    "result_water_d2=cur.fetchall()\n",
    "conn.commit()\n",
    "\n",
    "result_water_d2"
   ]
  },
  {
   "cell_type": "code",
   "execution_count": 36,
   "id": "03940bd9",
   "metadata": {},
   "outputs": [
    {
     "name": "stdout",
     "output_type": "stream",
     "text": [
      "Record Deleted\n"
     ]
    }
   ],
   "source": [
    "#As the bill_id of above 2 records are same and consumption of water is 0 \n",
    "#it is possible other record is wrongly entered \n",
    "#we will need to delete the one record to avoid the cross join\n",
    "try:\n",
    "    cur.execute(\"\"\"DELETE FROM water_consumption WAT\n",
    "        WHERE TRIM(Account_Name) = 'SOUTH JAMAICA II'\n",
    "        AND TRIM(WAT.location) ='BLD 17'\n",
    "        AND BILL_ID ='8190854'\n",
    "        AND Meter_Number = 'G13008478'\n",
    "        AND days=3318\n",
    "        \"\"\")\n",
    "    conn.commit()\n",
    "    print(\"Record Deleted\")\n",
    "    \n",
    "except Exception as e:\n",
    "    print(f\"Error: {e}\")\n",
    "    conn.rollback()"
   ]
  },
  {
   "cell_type": "code",
   "execution_count": 41,
   "id": "339aaab1",
   "metadata": {},
   "outputs": [
    {
     "ename": "InFailedSqlTransaction",
     "evalue": "current transaction is aborted, commands ignored until end of transaction block\n",
     "output_type": "error",
     "traceback": [
      "\u001b[1;31m---------------------------------------------------------------------------\u001b[0m",
      "\u001b[1;31mInFailedSqlTransaction\u001b[0m                    Traceback (most recent call last)",
      "Cell \u001b[1;32mIn[41], line 1\u001b[0m\n\u001b[1;32m----> 1\u001b[0m \u001b[43mcur\u001b[49m\u001b[38;5;241;43m.\u001b[39;49m\u001b[43mexecute\u001b[49m\u001b[43m(\u001b[49m\u001b[38;5;124;43m'''\u001b[39;49m\u001b[38;5;124;43mSELECT\u001b[39;49m\n\u001b[0;32m      2\u001b[0m \u001b[38;5;124;43m                ELEC.Development_Name, \u001b[39;49m\n\u001b[0;32m      3\u001b[0m \u001b[38;5;124;43m                ELEC.Borough, \u001b[39;49m\n\u001b[0;32m      4\u001b[0m \u001b[38;5;124;43m                ELEC.Account_Name,\u001b[39;49m\n\u001b[0;32m      5\u001b[0m \u001b[38;5;124;43m                ELEC.location ,\u001b[39;49m\n\u001b[0;32m      6\u001b[0m \u001b[38;5;124;43m                ELEC.Revenue_DATE, \u001b[39;49m\n\u001b[0;32m      7\u001b[0m \u001b[38;5;124;43m                ELEC.Service_Start_Date, \u001b[39;49m\n\u001b[0;32m      8\u001b[0m \u001b[38;5;124;43m                ELEC.Service_End_Date, \u001b[39;49m\n\u001b[0;32m      9\u001b[0m \u001b[38;5;124;43m                ELEC.Days, \u001b[39;49m\n\u001b[0;32m     10\u001b[0m \u001b[38;5;124;43m                ELEC.Consumption_KWH, \u001b[39;49m\n\u001b[0;32m     11\u001b[0m \u001b[38;5;124;43m                ELEC.KWH_Charges, \u001b[39;49m\n\u001b[0;32m     12\u001b[0m \u001b[38;5;124;43m                ELEC.Consumption_KW, \u001b[39;49m\n\u001b[0;32m     13\u001b[0m \u001b[38;5;124;43m                ELEC.KW_Charges, \u001b[39;49m\n\u001b[0;32m     14\u001b[0m \u001b[38;5;124;43m                WAT.Consumption_hcf AS Consumption_hcf\u001b[39;49m\n\u001b[0;32m     15\u001b[0m \u001b[38;5;124;43m                FROM(SELECT\u001b[39;49m\n\u001b[0;32m     16\u001b[0m \u001b[38;5;124;43m                    ELEC.BILL_ID AS BILL_ID,\u001b[39;49m\n\u001b[0;32m     17\u001b[0m \u001b[38;5;124;43m                    ELEC.Development_Name AS Development_Name, \u001b[39;49m\n\u001b[0;32m     18\u001b[0m \u001b[38;5;124;43m                    ELEC.Borough AS Borough, \u001b[39;49m\n\u001b[0;32m     19\u001b[0m \u001b[38;5;124;43m                    ELEC.Account_Name AS Account_Name,\u001b[39;49m\n\u001b[0;32m     20\u001b[0m \u001b[38;5;124;43m                    ELEC.location AS \u001b[39;49m\u001b[38;5;124;43m\"\u001b[39;49m\u001b[38;5;124;43mlocation\u001b[39;49m\u001b[38;5;124;43m\"\u001b[39;49m\u001b[38;5;124;43m ,\u001b[39;49m\n\u001b[0;32m     21\u001b[0m \u001b[38;5;124;43m                    ELEC.Revenue_DATE AS Revenue_DATE, \u001b[39;49m\n\u001b[0;32m     22\u001b[0m \u001b[38;5;124;43m                    ELEC.Service_Start_Date AS Service_Start_Date, \u001b[39;49m\n\u001b[0;32m     23\u001b[0m \u001b[38;5;124;43m                    ELEC.Service_End_Date AS Service_End_Date, \u001b[39;49m\n\u001b[0;32m     24\u001b[0m \u001b[38;5;124;43m                    ELEC.Days AS Days, \u001b[39;49m\n\u001b[0;32m     25\u001b[0m \u001b[38;5;124;43m                    ELEC.Meter_Number AS Meter_Number, \u001b[39;49m\n\u001b[0;32m     26\u001b[0m \u001b[38;5;124;43m                    SUM(ELEC.Consumption_KWH) AS Consumption_KWH, \u001b[39;49m\n\u001b[0;32m     27\u001b[0m \u001b[38;5;124;43m                    SUM(ELEC.KWH_Charges) AS KWH_Charges, \u001b[39;49m\n\u001b[0;32m     28\u001b[0m \u001b[38;5;124;43m                    SUM(ELEC.Consumption_KW) AS Consumption_KW, \u001b[39;49m\n\u001b[0;32m     29\u001b[0m \u001b[38;5;124;43m                    SUM(ELEC.KW_Charges) AS KW_Charges\u001b[39;49m\n\u001b[0;32m     30\u001b[0m \u001b[38;5;124;43m                    FROM electric_consumption ELEC\u001b[39;49m\n\u001b[0;32m     31\u001b[0m \u001b[38;5;124;43m                    GROUP BY 1,2,3,4,5,6,7,8,9,10) ELEC\u001b[39;49m\n\u001b[0;32m     32\u001b[0m \u001b[38;5;124;43m                LEFT JOIN (SELECT \u001b[39;49m\n\u001b[0;32m     33\u001b[0m \u001b[38;5;124;43m                        WAT.BILL_ID,\u001b[39;49m\n\u001b[0;32m     34\u001b[0m \u001b[38;5;124;43m                        WAT.Development_Name, \u001b[39;49m\n\u001b[0;32m     35\u001b[0m \u001b[38;5;124;43m                        WAT.Borough, \u001b[39;49m\n\u001b[0;32m     36\u001b[0m \u001b[38;5;124;43m                        WAT.Account_Name,\u001b[39;49m\n\u001b[0;32m     37\u001b[0m \u001b[38;5;124;43m                        WAT.location ,\u001b[39;49m\n\u001b[0;32m     38\u001b[0m \u001b[38;5;124;43m                        WAT.Revenue_DATE, \u001b[39;49m\n\u001b[0;32m     39\u001b[0m \u001b[38;5;124;43m                        WAT.Service_Start_Date, \u001b[39;49m\n\u001b[0;32m     40\u001b[0m \u001b[38;5;124;43m                        WAT.Service_End_Date, \u001b[39;49m\n\u001b[0;32m     41\u001b[0m \u001b[38;5;124;43m                        WAT.Days, \u001b[39;49m\n\u001b[0;32m     42\u001b[0m \u001b[38;5;124;43m                        WAT.Meter_Number, \u001b[39;49m\n\u001b[0;32m     43\u001b[0m \u001b[38;5;124;43m                        SUM(WAT.Consumption_hcf) Consumption_hcf\u001b[39;49m\n\u001b[0;32m     44\u001b[0m \u001b[38;5;124;43m                    FROM water_consumption WAT\u001b[39;49m\n\u001b[0;32m     45\u001b[0m \u001b[38;5;124;43m                    GROUP BY 1,2,3,4,5,6,7,8,9,10) WAT\u001b[39;49m\n\u001b[0;32m     46\u001b[0m \u001b[38;5;124;43m                ON ELEC.revenue_date= WAT.revenue_date\u001b[39;49m\n\u001b[0;32m     47\u001b[0m \u001b[38;5;124;43m                AND ELEC.location=WAT.location\u001b[39;49m\n\u001b[0;32m     48\u001b[0m \u001b[38;5;124;43m                AND ELEC.Account_Name=WAT.Account_Name;\u001b[39;49m\n\u001b[0;32m     49\u001b[0m \u001b[38;5;124;43m                \u001b[39;49m\u001b[38;5;124;43m'''\u001b[39;49m\u001b[43m)\u001b[49m\n\u001b[0;32m     50\u001b[0m result_join\u001b[38;5;241m=\u001b[39mcur\u001b[38;5;241m.\u001b[39mfetchall()\n\u001b[0;32m     51\u001b[0m conn\u001b[38;5;241m.\u001b[39mcommit()\n",
      "\u001b[1;31mInFailedSqlTransaction\u001b[0m: current transaction is aborted, commands ignored until end of transaction block\n"
     ]
    }
   ],
   "source": [
    "# cur.execute('''SELECT\n",
    "#                 ELEC.Development_Name, \n",
    "#                 ELEC.Borough, \n",
    "#                 ELEC.Account_Name,\n",
    "#                 ELEC.location ,\n",
    "#                 ELEC.Revenue_DATE, \n",
    "#                 ELEC.Service_Start_Date, \n",
    "#                 ELEC.Service_End_Date, \n",
    "#                 ELEC.Days, \n",
    "#                 ELEC.Consumption_KWH, \n",
    "#                 ELEC.KWH_Charges, \n",
    "#                 ELEC.Consumption_KW, \n",
    "#                 ELEC.KW_Charges, \n",
    "#                 WAT.Consumption_hcf AS Consumption_hcf\n",
    "#                 FROM(SELECT\n",
    "#                     ELEC.BILL_ID AS BILL_ID,\n",
    "#                     ELEC.Development_Name AS Development_Name, \n",
    "#                     ELEC.Borough AS Borough, \n",
    "#                     ELEC.Account_Name AS Account_Name,\n",
    "#                     ELEC.location AS \"location\" ,\n",
    "#                     ELEC.Revenue_DATE AS Revenue_DATE, \n",
    "#                     ELEC.Service_Start_Date AS Service_Start_Date, \n",
    "#                     ELEC.Service_End_Date AS Service_End_Date, \n",
    "#                     ELEC.Days AS Days, \n",
    "#                     ELEC.Meter_Number AS Meter_Number, \n",
    "#                     SUM(ELEC.Consumption_KWH) AS Consumption_KWH, \n",
    "#                     SUM(ELEC.KWH_Charges) AS KWH_Charges, \n",
    "#                     SUM(ELEC.Consumption_KW) AS Consumption_KW, \n",
    "#                     SUM(ELEC.KW_Charges) AS KW_Charges\n",
    "#                     FROM electric_consumption ELEC\n",
    "#                     GROUP BY 1,2,3,4,5,6,7,8,9,10) ELEC\n",
    "#                 LEFT JOIN (SELECT \n",
    "#                         WAT.BILL_ID,\n",
    "#                         WAT.Development_Name, \n",
    "#                         WAT.Borough, \n",
    "#                         WAT.Account_Name,\n",
    "#                         WAT.location ,\n",
    "#                         WAT.Revenue_DATE, \n",
    "#                         WAT.Service_Start_Date, \n",
    "#                         WAT.Service_End_Date, \n",
    "#                         WAT.Days, \n",
    "#                         WAT.Meter_Number, \n",
    "#                         SUM(WAT.Consumption_hcf) Consumption_hcf\n",
    "#                     FROM water_consumption WAT\n",
    "#                     GROUP BY 1,2,3,4,5,6,7,8,9,10) WAT\n",
    "#                 ON ELEC.revenue_date= WAT.revenue_date\n",
    "#                 AND ELEC.location=WAT.location\n",
    "#                 AND ELEC.Account_Name=WAT.Account_Name;\n",
    "#                 ''')\n",
    "# result_join=cur.fetchall()\n",
    "# conn.commit()"
   ]
  },
  {
   "cell_type": "code",
   "execution_count": 44,
   "id": "2f558c64",
   "metadata": {},
   "outputs": [
    {
     "ename": "InFailedSqlTransaction",
     "evalue": "current transaction is aborted, commands ignored until end of transaction block\n",
     "output_type": "error",
     "traceback": [
      "\u001b[1;31m---------------------------------------------------------------------------\u001b[0m",
      "\u001b[1;31mInFailedSqlTransaction\u001b[0m                    Traceback (most recent call last)",
      "Cell \u001b[1;32mIn[44], line 1\u001b[0m\n\u001b[1;32m----> 1\u001b[0m \u001b[43mcur\u001b[49m\u001b[38;5;241;43m.\u001b[39;49m\u001b[43mexecute\u001b[49m\u001b[43m(\u001b[49m\u001b[38;5;124;43m'''\u001b[39;49m\u001b[38;5;124;43mSELECT\u001b[39;49m\n\u001b[0;32m      2\u001b[0m \u001b[38;5;124;43m                ELEC.Development_Name, \u001b[39;49m\n\u001b[0;32m      3\u001b[0m \u001b[38;5;124;43m                ELEC.Borough, \u001b[39;49m\n\u001b[0;32m      4\u001b[0m \u001b[38;5;124;43m                ELEC.Account_Name,\u001b[39;49m\n\u001b[0;32m      5\u001b[0m \u001b[38;5;124;43m                ELEC.location ,\u001b[39;49m\n\u001b[0;32m      6\u001b[0m \u001b[38;5;124;43m                ELEC.Revenue_DATE, \u001b[39;49m\n\u001b[0;32m      7\u001b[0m \u001b[38;5;124;43m                ELEC.Service_Start_Date, \u001b[39;49m\n\u001b[0;32m      8\u001b[0m \u001b[38;5;124;43m                ELEC.Service_End_Date, \u001b[39;49m\n\u001b[0;32m      9\u001b[0m \u001b[38;5;124;43m                ELEC.Days, \u001b[39;49m\n\u001b[0;32m     10\u001b[0m \u001b[38;5;124;43m                ELEC.Consumption_KWH, \u001b[39;49m\n\u001b[0;32m     11\u001b[0m \u001b[38;5;124;43m                ELEC.KWH_Charges, \u001b[39;49m\n\u001b[0;32m     12\u001b[0m \u001b[38;5;124;43m                ELEC.Consumption_KW, \u001b[39;49m\n\u001b[0;32m     13\u001b[0m \u001b[38;5;124;43m                ELEC.KW_Charges, \u001b[39;49m\n\u001b[0;32m     14\u001b[0m \u001b[38;5;124;43m                WAT.Consumption_hcf AS Consumption_hcf\u001b[39;49m\n\u001b[0;32m     15\u001b[0m \u001b[38;5;124;43m            FROM(SELECT\u001b[39;49m\n\u001b[0;32m     16\u001b[0m \u001b[38;5;124;43m                    ELEC.BILL_ID AS BILL_ID,\u001b[39;49m\n\u001b[0;32m     17\u001b[0m \u001b[38;5;124;43m                    ELEC.Development_Name AS Development_Name, \u001b[39;49m\n\u001b[0;32m     18\u001b[0m \u001b[38;5;124;43m                    ELEC.Borough AS Borough, \u001b[39;49m\n\u001b[0;32m     19\u001b[0m \u001b[38;5;124;43m                    ELEC.Account_Name AS Account_Name,\u001b[39;49m\n\u001b[0;32m     20\u001b[0m \u001b[38;5;124;43m                    ELEC.location AS \u001b[39;49m\u001b[38;5;124;43m\"\u001b[39;49m\u001b[38;5;124;43mlocation\u001b[39;49m\u001b[38;5;124;43m\"\u001b[39;49m\u001b[38;5;124;43m ,\u001b[39;49m\n\u001b[0;32m     21\u001b[0m \u001b[38;5;124;43m                    ELEC.Revenue_DATE AS Revenue_DATE, \u001b[39;49m\n\u001b[0;32m     22\u001b[0m \u001b[38;5;124;43m                    ELEC.Service_Start_Date AS Service_Start_Date, \u001b[39;49m\n\u001b[0;32m     23\u001b[0m \u001b[38;5;124;43m                    ELEC.Service_End_Date AS Service_End_Date, \u001b[39;49m\n\u001b[0;32m     24\u001b[0m \u001b[38;5;124;43m                    ELEC.Days AS Days, \u001b[39;49m\n\u001b[0;32m     25\u001b[0m \u001b[38;5;124;43m                    ELEC.Meter_Number AS Meter_Number, \u001b[39;49m\n\u001b[0;32m     26\u001b[0m \u001b[38;5;124;43m                    SUM(ELEC.Consumption_KWH) AS Consumption_KWH, \u001b[39;49m\n\u001b[0;32m     27\u001b[0m \u001b[38;5;124;43m                    SUM(ELEC.KWH_Charges) AS KWH_Charges, \u001b[39;49m\n\u001b[0;32m     28\u001b[0m \u001b[38;5;124;43m                    SUM(ELEC.Consumption_KW) AS Consumption_KW, \u001b[39;49m\n\u001b[0;32m     29\u001b[0m \u001b[38;5;124;43m                    SUM(ELEC.KW_Charges) AS KW_Charges\u001b[39;49m\n\u001b[0;32m     30\u001b[0m \u001b[38;5;124;43m                FROM electric_consumption ELEC\u001b[39;49m\n\u001b[0;32m     31\u001b[0m \u001b[38;5;124;43m                GROUP BY 1,2,3,4,5,6,7,8,9,10) ELEC\u001b[39;49m\n\u001b[0;32m     32\u001b[0m \u001b[38;5;124;43m            LEFT JOIN (SELECT \u001b[39;49m\n\u001b[0;32m     33\u001b[0m \u001b[38;5;124;43m                        WAT.BILL_ID,\u001b[39;49m\n\u001b[0;32m     34\u001b[0m \u001b[38;5;124;43m                        WAT.Development_Name, \u001b[39;49m\n\u001b[0;32m     35\u001b[0m \u001b[38;5;124;43m                        WAT.Borough, \u001b[39;49m\n\u001b[0;32m     36\u001b[0m \u001b[38;5;124;43m                        WAT.Account_Name,\u001b[39;49m\n\u001b[0;32m     37\u001b[0m \u001b[38;5;124;43m                        WAT.location ,\u001b[39;49m\n\u001b[0;32m     38\u001b[0m \u001b[38;5;124;43m                        WAT.Revenue_DATE, \u001b[39;49m\n\u001b[0;32m     39\u001b[0m \u001b[38;5;124;43m                        WAT.Service_Start_Date, \u001b[39;49m\n\u001b[0;32m     40\u001b[0m \u001b[38;5;124;43m                        WAT.Service_End_Date, \u001b[39;49m\n\u001b[0;32m     41\u001b[0m \u001b[38;5;124;43m                        WAT.Days, \u001b[39;49m\n\u001b[0;32m     42\u001b[0m \u001b[38;5;124;43m                        WAT.Meter_Number, \u001b[39;49m\n\u001b[0;32m     43\u001b[0m \u001b[38;5;124;43m                        SUM(WAT.Consumption_hcf) Consumption_hcf\u001b[39;49m\n\u001b[0;32m     44\u001b[0m \u001b[38;5;124;43m                    FROM water_consumption WAT\u001b[39;49m\n\u001b[0;32m     45\u001b[0m \u001b[38;5;124;43m                    GROUP BY 1,2,3,4,5,6,7,8,9,10) WAT\u001b[39;49m\n\u001b[0;32m     46\u001b[0m \u001b[38;5;124;43m            ON ELEC.revenue_date= WAT.revenue_date\u001b[39;49m\n\u001b[0;32m     47\u001b[0m \u001b[38;5;124;43m            AND ELEC.location=WAT.location\u001b[39;49m\n\u001b[0;32m     48\u001b[0m \u001b[38;5;124;43m            AND ELEC.Account_Name=WAT.Account_Name\u001b[39;49m\n\u001b[0;32m     49\u001b[0m \u001b[38;5;124;43m        ;\u001b[39;49m\n\u001b[0;32m     50\u001b[0m \u001b[38;5;124;43m        \u001b[39;49m\u001b[38;5;124;43m'''\u001b[39;49m\u001b[43m)\u001b[49m\n\u001b[0;32m     51\u001b[0m conn\u001b[38;5;241m.\u001b[39mcommit()\n",
      "\u001b[1;31mInFailedSqlTransaction\u001b[0m: current transaction is aborted, commands ignored until end of transaction block\n"
     ]
    }
   ],
   "source": [
    "cur.execute('''SELECT\n",
    "                ELEC.Development_Name, \n",
    "                ELEC.Borough, \n",
    "                ELEC.Account_Name,\n",
    "                ELEC.location ,\n",
    "                ELEC.Revenue_DATE, \n",
    "                ELEC.Service_Start_Date, \n",
    "                ELEC.Service_End_Date, \n",
    "                ELEC.Days, \n",
    "                ELEC.Consumption_KWH, \n",
    "                ELEC.KWH_Charges, \n",
    "                ELEC.Consumption_KW, \n",
    "                ELEC.KW_Charges, \n",
    "                WAT.Consumption_hcf AS Consumption_hcf\n",
    "            FROM(SELECT\n",
    "                    ELEC.BILL_ID AS BILL_ID,\n",
    "                    ELEC.Development_Name AS Development_Name, \n",
    "                    ELEC.Borough AS Borough, \n",
    "                    ELEC.Account_Name AS Account_Name,\n",
    "                    ELEC.location AS \"location\" ,\n",
    "                    ELEC.Revenue_DATE AS Revenue_DATE, \n",
    "                    ELEC.Service_Start_Date AS Service_Start_Date, \n",
    "                    ELEC.Service_End_Date AS Service_End_Date, \n",
    "                    ELEC.Days AS Days, \n",
    "                    ELEC.Meter_Number AS Meter_Number, \n",
    "                    SUM(ELEC.Consumption_KWH) AS Consumption_KWH, \n",
    "                    SUM(ELEC.KWH_Charges) AS KWH_Charges, \n",
    "                    SUM(ELEC.Consumption_KW) AS Consumption_KW, \n",
    "                    SUM(ELEC.KW_Charges) AS KW_Charges\n",
    "                FROM electric_consumption ELEC\n",
    "                GROUP BY 1,2,3,4,5,6,7,8,9,10) ELEC\n",
    "            LEFT JOIN (SELECT \n",
    "                        WAT.BILL_ID,\n",
    "                        WAT.Development_Name, \n",
    "                        WAT.Borough, \n",
    "                        WAT.Account_Name,\n",
    "                        WAT.location ,\n",
    "                        WAT.Revenue_DATE, \n",
    "                        WAT.Service_Start_Date, \n",
    "                        WAT.Service_End_Date, \n",
    "                        WAT.Days, \n",
    "                        WAT.Meter_Number, \n",
    "                        SUM(WAT.Consumption_hcf) Consumption_hcf\n",
    "                    FROM water_consumption WAT\n",
    "                    GROUP BY 1,2,3,4,5,6,7,8,9,10) WAT\n",
    "            ON ELEC.revenue_date= WAT.revenue_date\n",
    "            AND ELEC.location=WAT.location\n",
    "            AND ELEC.Account_Name=WAT.Account_Name\n",
    "        ;\n",
    "        ''')\n",
    "conn.commit()\n"
   ]
  },
  {
   "cell_type": "code",
   "execution_count": null,
   "id": "221e36ad",
   "metadata": {},
   "outputs": [],
   "source": [
    "\n",
    "cur.close()\n",
    "conn.close()"
   ]
  }
 ],
 "metadata": {
  "kernelspec": {
   "display_name": "Python 3 (ipykernel)",
   "language": "python",
   "name": "python3"
  },
  "language_info": {
   "codemirror_mode": {
    "name": "ipython",
    "version": 3
   },
   "file_extension": ".py",
   "mimetype": "text/x-python",
   "name": "python",
   "nbconvert_exporter": "python",
   "pygments_lexer": "ipython3",
   "version": "3.9.16"
  }
 },
 "nbformat": 4,
 "nbformat_minor": 5
}
